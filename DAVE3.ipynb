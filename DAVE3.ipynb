{
 "cells": [
  {
   "cell_type": "code",
   "execution_count": 3,
   "metadata": {
    "id": "TKCyqO_V2GiU"
   },
   "outputs": [
    {
     "name": "stdout",
     "output_type": "stream",
     "text": [
      "Requirement already satisfied: factor_analyzer in /home/jupyterlab/conda/envs/python/lib/python3.6/site-packages (0.3.2)\n",
      "Requirement already satisfied: numpy in /home/jupyterlab/conda/envs/python/lib/python3.6/site-packages (from factor_analyzer) (1.19.2)\n",
      "Requirement already satisfied: scipy in /home/jupyterlab/conda/envs/python/lib/python3.6/site-packages (from factor_analyzer) (1.5.3)\n",
      "Requirement already satisfied: pandas in /home/jupyterlab/conda/envs/python/lib/python3.6/site-packages (from factor_analyzer) (1.1.3)\n",
      "Requirement already satisfied: scikit-learn in /home/jupyterlab/conda/envs/python/lib/python3.6/site-packages (from factor_analyzer) (0.20.1)\n",
      "Requirement already satisfied: python-dateutil>=2.7.3 in /home/jupyterlab/conda/envs/python/lib/python3.6/site-packages (from pandas->factor_analyzer) (2.8.1)\n",
      "Requirement already satisfied: pytz>=2017.2 in /home/jupyterlab/conda/envs/python/lib/python3.6/site-packages (from pandas->factor_analyzer) (2020.1)\n",
      "Requirement already satisfied: six>=1.5 in /home/jupyterlab/conda/envs/python/lib/python3.6/site-packages (from python-dateutil>=2.7.3->pandas->factor_analyzer) (1.15.0)\n"
     ]
    }
   ],
   "source": [
    "import pandas as pd\n",
    "!pip install factor_analyzer\n",
    "from factor_analyzer.factor_analyzer import calculate_bartlett_sphericity\n",
    "from factor_analyzer import FactorAnalyzer\n",
    "import matplotlib.pyplot as plt\n",
    "from factor_analyzer.factor_analyzer import calculate_kmo"
   ]
  },
  {
   "cell_type": "code",
   "execution_count": 4,
   "metadata": {
    "id": "7LrU3ACr2GiV"
   },
   "outputs": [],
   "source": [
    "df = pd.read_csv('d_data.csv')"
   ]
  },
  {
   "cell_type": "code",
   "execution_count": 6,
   "metadata": {
    "colab": {
     "base_uri": "https://localhost:8080/",
     "height": 144
    },
    "id": "Z7-VRd1D2GiW",
    "outputId": "2fafd6e8-bf9d-4bb4-9376-f7bb13f264a7"
   },
   "outputs": [
    {
     "data": {
      "text/html": [
       "<div>\n",
       "<style scoped>\n",
       "    .dataframe tbody tr th:only-of-type {\n",
       "        vertical-align: middle;\n",
       "    }\n",
       "\n",
       "    .dataframe tbody tr th {\n",
       "        vertical-align: top;\n",
       "    }\n",
       "\n",
       "    .dataframe thead th {\n",
       "        text-align: right;\n",
       "    }\n",
       "</style>\n",
       "<table border=\"1\" class=\"dataframe\">\n",
       "  <thead>\n",
       "    <tr style=\"text-align: right;\">\n",
       "      <th></th>\n",
       "      <th>PINST1</th>\n",
       "      <th>PINST2</th>\n",
       "      <th>PINST3</th>\n",
       "      <th>PINST4</th>\n",
       "      <th>PINST5</th>\n",
       "      <th>PINST6</th>\n",
       "      <th>PSOCP1</th>\n",
       "      <th>PSOCP2</th>\n",
       "      <th>PSCOP3</th>\n",
       "      <th>PSCOP4</th>\n",
       "      <th>PTRANS1</th>\n",
       "      <th>PTRANS2</th>\n",
       "      <th>PTRANS3</th>\n",
       "      <th>PMSC1</th>\n",
       "      <th>PMSC2</th>\n",
       "      <th>PMSC3</th>\n",
       "      <th>PMSC4</th>\n",
       "      <th>PMSC5</th>\n",
       "      <th>PMSC6</th>\n",
       "      <th>PMSC7</th>\n",
       "    </tr>\n",
       "  </thead>\n",
       "  <tbody>\n",
       "    <tr>\n",
       "      <th>0</th>\n",
       "      <td>4</td>\n",
       "      <td>4</td>\n",
       "      <td>5</td>\n",
       "      <td>5</td>\n",
       "      <td>4</td>\n",
       "      <td>5</td>\n",
       "      <td>3</td>\n",
       "      <td>4</td>\n",
       "      <td>4</td>\n",
       "      <td>5</td>\n",
       "      <td>5</td>\n",
       "      <td>5</td>\n",
       "      <td>5</td>\n",
       "      <td>4</td>\n",
       "      <td>5</td>\n",
       "      <td>5</td>\n",
       "      <td>5</td>\n",
       "      <td>5</td>\n",
       "      <td>5</td>\n",
       "      <td>4</td>\n",
       "    </tr>\n",
       "    <tr>\n",
       "      <th>1</th>\n",
       "      <td>3</td>\n",
       "      <td>4</td>\n",
       "      <td>1</td>\n",
       "      <td>4</td>\n",
       "      <td>4</td>\n",
       "      <td>3</td>\n",
       "      <td>4</td>\n",
       "      <td>4</td>\n",
       "      <td>4</td>\n",
       "      <td>4</td>\n",
       "      <td>3</td>\n",
       "      <td>2</td>\n",
       "      <td>3</td>\n",
       "      <td>4</td>\n",
       "      <td>3</td>\n",
       "      <td>3</td>\n",
       "      <td>5</td>\n",
       "      <td>2</td>\n",
       "      <td>5</td>\n",
       "      <td>3</td>\n",
       "    </tr>\n",
       "    <tr>\n",
       "      <th>2</th>\n",
       "      <td>4</td>\n",
       "      <td>4</td>\n",
       "      <td>5</td>\n",
       "      <td>4</td>\n",
       "      <td>3</td>\n",
       "      <td>5</td>\n",
       "      <td>4</td>\n",
       "      <td>5</td>\n",
       "      <td>4</td>\n",
       "      <td>4</td>\n",
       "      <td>5</td>\n",
       "      <td>5</td>\n",
       "      <td>5</td>\n",
       "      <td>3</td>\n",
       "      <td>5</td>\n",
       "      <td>5</td>\n",
       "      <td>4</td>\n",
       "      <td>5</td>\n",
       "      <td>5</td>\n",
       "      <td>5</td>\n",
       "    </tr>\n",
       "  </tbody>\n",
       "</table>\n",
       "</div>"
      ],
      "text/plain": [
       "   PINST1  PINST2  PINST3  PINST4  PINST5  ...  PMSC3  PMSC4  PMSC5  PMSC6  PMSC7\n",
       "0       4       4       5       5       4  ...      5      5      5      5      4\n",
       "1       3       4       1       4       4  ...      3      5      2      5      3\n",
       "2       4       4       5       4       3  ...      5      4      5      5      5\n",
       "\n",
       "[3 rows x 20 columns]"
      ]
     },
     "execution_count": 6,
     "metadata": {
      "tags": []
     },
     "output_type": "execute_result"
    }
   ],
   "source": [
    "df.head(3)"
   ]
  },
  {
   "cell_type": "code",
   "execution_count": 7,
   "metadata": {
    "colab": {
     "base_uri": "https://localhost:8080/"
    },
    "id": "v7tlFXsa9TWV",
    "outputId": "226e81f9-a1e6-43bb-eb43-2182ca730e35"
   },
   "outputs": [
    {
     "data": {
      "text/plain": [
       "Index(['PINST1', 'PINST2', 'PINST3', 'PINST4', 'PINST5', 'PINST6', 'PSOCP1',\n",
       "       'PSOCP2', 'PSCOP3', 'PSCOP4', 'PTRANS1', 'PTRANS2', 'PTRANS3', 'PMSC1',\n",
       "       'PMSC2', 'PMSC3', 'PMSC4', 'PMSC5', 'PMSC6', 'PMSC7'],\n",
       "      dtype='object')"
      ]
     },
     "execution_count": 7,
     "metadata": {
      "tags": []
     },
     "output_type": "execute_result"
    }
   ],
   "source": [
    "df.columns"
   ]
  },
  {
   "cell_type": "code",
   "execution_count": 9,
   "metadata": {
    "id": "pOcZ03xE9Xmc"
   },
   "outputs": [],
   "source": [
    "#variables to drop\n",
    "# 'PSCOP3', 'PSCOP4', 'PMSC1', 'PINST6', 'PMSC4', 'PMSC3', 'PTRANS2'"
   ]
  },
  {
   "cell_type": "code",
   "execution_count": 12,
   "metadata": {
    "colab": {
     "base_uri": "https://localhost:8080/"
    },
    "id": "6TcuMu98_AdJ",
    "outputId": "80682026-a6e1-45b3-d8c2-e527e72053f3"
   },
   "outputs": [
    {
     "data": {
      "text/plain": [
       "8"
      ]
     },
     "execution_count": 12,
     "metadata": {
      "tags": []
     },
     "output_type": "execute_result"
    }
   ],
   "source": [
    "mm = list(df.columns)\n",
    "mm.index('PSCOP3')"
   ]
  },
  {
   "cell_type": "code",
   "execution_count": 13,
   "metadata": {
    "colab": {
     "base_uri": "https://localhost:8080/",
     "height": 35
    },
    "id": "oZt5_Iby_WOL",
    "outputId": "67a18cfa-2268-44e3-9979-b9898a92b6d7"
   },
   "outputs": [
    {
     "data": {
      "application/vnd.google.colaboratory.intrinsic+json": {
       "type": "string"
      },
      "text/plain": [
       "'PTRANS2'"
      ]
     },
     "execution_count": 13,
     "metadata": {
      "tags": []
     },
     "output_type": "execute_result"
    }
   ],
   "source": [
    "mm.pop(mm.index('PSCOP3'))\n",
    "mm.pop(mm.index('PSCOP4'))\n",
    "mm.pop(mm.index('PMSC1'))\n",
    "mm.pop(mm.index('PINST6'))\n",
    "mm.pop(mm.index('PMSC4'))\n",
    "mm.pop(mm.index('PMSC3'))\n",
    "mm.pop(mm.index('PTRANS2'))"
   ]
  },
  {
   "cell_type": "code",
   "execution_count": 15,
   "metadata": {
    "colab": {
     "base_uri": "https://localhost:8080/"
    },
    "id": "4QK0wIpX_xra",
    "outputId": "70fcd2ee-7e7d-4e14-a0ed-d676744e8140"
   },
   "outputs": [
    {
     "data": {
      "text/plain": [
       "13"
      ]
     },
     "execution_count": 15,
     "metadata": {
      "tags": []
     },
     "output_type": "execute_result"
    }
   ],
   "source": [
    "len(mm)"
   ]
  },
  {
   "cell_type": "code",
   "execution_count": 17,
   "metadata": {
    "id": "TSsj7-0t-PKk"
   },
   "outputs": [],
   "source": [
    "dff = df[mm]"
   ]
  },
  {
   "cell_type": "code",
   "execution_count": 18,
   "metadata": {
    "colab": {
     "base_uri": "https://localhost:8080/",
     "height": 112
    },
    "id": "uYsItk5jAI5o",
    "outputId": "26ba93bf-47c2-420a-f0bb-8aaa42415603"
   },
   "outputs": [
    {
     "data": {
      "text/html": [
       "<div>\n",
       "<style scoped>\n",
       "    .dataframe tbody tr th:only-of-type {\n",
       "        vertical-align: middle;\n",
       "    }\n",
       "\n",
       "    .dataframe tbody tr th {\n",
       "        vertical-align: top;\n",
       "    }\n",
       "\n",
       "    .dataframe thead th {\n",
       "        text-align: right;\n",
       "    }\n",
       "</style>\n",
       "<table border=\"1\" class=\"dataframe\">\n",
       "  <thead>\n",
       "    <tr style=\"text-align: right;\">\n",
       "      <th></th>\n",
       "      <th>PINST1</th>\n",
       "      <th>PINST2</th>\n",
       "      <th>PINST3</th>\n",
       "      <th>PINST4</th>\n",
       "      <th>PINST5</th>\n",
       "      <th>PSOCP1</th>\n",
       "      <th>PSOCP2</th>\n",
       "      <th>PTRANS1</th>\n",
       "      <th>PTRANS3</th>\n",
       "      <th>PMSC2</th>\n",
       "      <th>PMSC5</th>\n",
       "      <th>PMSC6</th>\n",
       "      <th>PMSC7</th>\n",
       "    </tr>\n",
       "  </thead>\n",
       "  <tbody>\n",
       "    <tr>\n",
       "      <th>0</th>\n",
       "      <td>4</td>\n",
       "      <td>4</td>\n",
       "      <td>5</td>\n",
       "      <td>5</td>\n",
       "      <td>4</td>\n",
       "      <td>3</td>\n",
       "      <td>4</td>\n",
       "      <td>5</td>\n",
       "      <td>5</td>\n",
       "      <td>5</td>\n",
       "      <td>5</td>\n",
       "      <td>5</td>\n",
       "      <td>4</td>\n",
       "    </tr>\n",
       "    <tr>\n",
       "      <th>1</th>\n",
       "      <td>3</td>\n",
       "      <td>4</td>\n",
       "      <td>1</td>\n",
       "      <td>4</td>\n",
       "      <td>4</td>\n",
       "      <td>4</td>\n",
       "      <td>4</td>\n",
       "      <td>3</td>\n",
       "      <td>3</td>\n",
       "      <td>3</td>\n",
       "      <td>2</td>\n",
       "      <td>5</td>\n",
       "      <td>3</td>\n",
       "    </tr>\n",
       "  </tbody>\n",
       "</table>\n",
       "</div>"
      ],
      "text/plain": [
       "   PINST1  PINST2  PINST3  PINST4  PINST5  ...  PTRANS3  PMSC2  PMSC5  PMSC6  PMSC7\n",
       "0       4       4       5       5       4  ...        5      5      5      5      4\n",
       "1       3       4       1       4       4  ...        3      3      2      5      3\n",
       "\n",
       "[2 rows x 13 columns]"
      ]
     },
     "execution_count": 18,
     "metadata": {
      "tags": []
     },
     "output_type": "execute_result"
    }
   ],
   "source": [
    "dff.head(2)"
   ]
  },
  {
   "cell_type": "code",
   "execution_count": 19,
   "metadata": {
    "colab": {
     "base_uri": "https://localhost:8080/",
     "height": 457
    },
    "id": "RxBmiFYOANK2",
    "outputId": "4bdad975-b506-4e78-b405-744888d74f76"
   },
   "outputs": [
    {
     "data": {
      "text/html": [
       "<div>\n",
       "<style scoped>\n",
       "    .dataframe tbody tr th:only-of-type {\n",
       "        vertical-align: middle;\n",
       "    }\n",
       "\n",
       "    .dataframe tbody tr th {\n",
       "        vertical-align: top;\n",
       "    }\n",
       "\n",
       "    .dataframe thead th {\n",
       "        text-align: right;\n",
       "    }\n",
       "</style>\n",
       "<table border=\"1\" class=\"dataframe\">\n",
       "  <thead>\n",
       "    <tr style=\"text-align: right;\">\n",
       "      <th></th>\n",
       "      <th>PINST1</th>\n",
       "      <th>PINST2</th>\n",
       "      <th>PINST3</th>\n",
       "      <th>PINST4</th>\n",
       "      <th>PINST5</th>\n",
       "      <th>PSOCP1</th>\n",
       "      <th>PSOCP2</th>\n",
       "      <th>PTRANS1</th>\n",
       "      <th>PTRANS3</th>\n",
       "      <th>PMSC2</th>\n",
       "      <th>PMSC5</th>\n",
       "      <th>PMSC6</th>\n",
       "      <th>PMSC7</th>\n",
       "    </tr>\n",
       "  </thead>\n",
       "  <tbody>\n",
       "    <tr>\n",
       "      <th>PINST1</th>\n",
       "      <td>1.000000</td>\n",
       "      <td>0.338367</td>\n",
       "      <td>0.597879</td>\n",
       "      <td>0.130127</td>\n",
       "      <td>-0.447292</td>\n",
       "      <td>0.009085</td>\n",
       "      <td>0.038749</td>\n",
       "      <td>0.523431</td>\n",
       "      <td>0.203411</td>\n",
       "      <td>0.385699</td>\n",
       "      <td>0.558086</td>\n",
       "      <td>-0.222648</td>\n",
       "      <td>0.000750</td>\n",
       "    </tr>\n",
       "    <tr>\n",
       "      <th>PINST2</th>\n",
       "      <td>0.338367</td>\n",
       "      <td>1.000000</td>\n",
       "      <td>0.093675</td>\n",
       "      <td>-0.183986</td>\n",
       "      <td>-0.182364</td>\n",
       "      <td>0.279104</td>\n",
       "      <td>0.182385</td>\n",
       "      <td>0.158542</td>\n",
       "      <td>-0.207638</td>\n",
       "      <td>0.028404</td>\n",
       "      <td>0.169039</td>\n",
       "      <td>-0.199684</td>\n",
       "      <td>0.056782</td>\n",
       "    </tr>\n",
       "    <tr>\n",
       "      <th>PINST3</th>\n",
       "      <td>0.597879</td>\n",
       "      <td>0.093675</td>\n",
       "      <td>1.000000</td>\n",
       "      <td>0.352469</td>\n",
       "      <td>-0.260195</td>\n",
       "      <td>-0.040284</td>\n",
       "      <td>0.099573</td>\n",
       "      <td>0.795678</td>\n",
       "      <td>0.627130</td>\n",
       "      <td>0.745147</td>\n",
       "      <td>0.848358</td>\n",
       "      <td>-0.040852</td>\n",
       "      <td>0.245313</td>\n",
       "    </tr>\n",
       "    <tr>\n",
       "      <th>PINST4</th>\n",
       "      <td>0.130127</td>\n",
       "      <td>-0.183986</td>\n",
       "      <td>0.352469</td>\n",
       "      <td>1.000000</td>\n",
       "      <td>0.008422</td>\n",
       "      <td>-0.108064</td>\n",
       "      <td>-0.081556</td>\n",
       "      <td>0.236008</td>\n",
       "      <td>0.444793</td>\n",
       "      <td>0.130871</td>\n",
       "      <td>0.251634</td>\n",
       "      <td>0.101266</td>\n",
       "      <td>-0.067659</td>\n",
       "    </tr>\n",
       "    <tr>\n",
       "      <th>PINST5</th>\n",
       "      <td>-0.447292</td>\n",
       "      <td>-0.182364</td>\n",
       "      <td>-0.260195</td>\n",
       "      <td>0.008422</td>\n",
       "      <td>1.000000</td>\n",
       "      <td>-0.382580</td>\n",
       "      <td>-0.137468</td>\n",
       "      <td>-0.275854</td>\n",
       "      <td>-0.145927</td>\n",
       "      <td>-0.038783</td>\n",
       "      <td>-0.343067</td>\n",
       "      <td>0.490423</td>\n",
       "      <td>-0.043559</td>\n",
       "    </tr>\n",
       "    <tr>\n",
       "      <th>PSOCP1</th>\n",
       "      <td>0.009085</td>\n",
       "      <td>0.279104</td>\n",
       "      <td>-0.040284</td>\n",
       "      <td>-0.108064</td>\n",
       "      <td>-0.382580</td>\n",
       "      <td>1.000000</td>\n",
       "      <td>0.590841</td>\n",
       "      <td>0.016478</td>\n",
       "      <td>-0.363713</td>\n",
       "      <td>-0.116730</td>\n",
       "      <td>0.152714</td>\n",
       "      <td>-0.151093</td>\n",
       "      <td>0.101088</td>\n",
       "    </tr>\n",
       "    <tr>\n",
       "      <th>PSOCP2</th>\n",
       "      <td>0.038749</td>\n",
       "      <td>0.182385</td>\n",
       "      <td>0.099573</td>\n",
       "      <td>-0.081556</td>\n",
       "      <td>-0.137468</td>\n",
       "      <td>0.590841</td>\n",
       "      <td>1.000000</td>\n",
       "      <td>0.070277</td>\n",
       "      <td>-0.316529</td>\n",
       "      <td>-0.135410</td>\n",
       "      <td>0.294507</td>\n",
       "      <td>-0.188969</td>\n",
       "      <td>0.203022</td>\n",
       "    </tr>\n",
       "    <tr>\n",
       "      <th>PTRANS1</th>\n",
       "      <td>0.523431</td>\n",
       "      <td>0.158542</td>\n",
       "      <td>0.795678</td>\n",
       "      <td>0.236008</td>\n",
       "      <td>-0.275854</td>\n",
       "      <td>0.016478</td>\n",
       "      <td>0.070277</td>\n",
       "      <td>1.000000</td>\n",
       "      <td>0.616147</td>\n",
       "      <td>0.746309</td>\n",
       "      <td>0.937904</td>\n",
       "      <td>0.015008</td>\n",
       "      <td>0.180194</td>\n",
       "    </tr>\n",
       "    <tr>\n",
       "      <th>PTRANS3</th>\n",
       "      <td>0.203411</td>\n",
       "      <td>-0.207638</td>\n",
       "      <td>0.627130</td>\n",
       "      <td>0.444793</td>\n",
       "      <td>-0.145927</td>\n",
       "      <td>-0.363713</td>\n",
       "      <td>-0.316529</td>\n",
       "      <td>0.616147</td>\n",
       "      <td>1.000000</td>\n",
       "      <td>0.627555</td>\n",
       "      <td>0.550381</td>\n",
       "      <td>0.166527</td>\n",
       "      <td>0.283025</td>\n",
       "    </tr>\n",
       "    <tr>\n",
       "      <th>PMSC2</th>\n",
       "      <td>0.385699</td>\n",
       "      <td>0.028404</td>\n",
       "      <td>0.745147</td>\n",
       "      <td>0.130871</td>\n",
       "      <td>-0.038783</td>\n",
       "      <td>-0.116730</td>\n",
       "      <td>-0.135410</td>\n",
       "      <td>0.746309</td>\n",
       "      <td>0.627555</td>\n",
       "      <td>1.000000</td>\n",
       "      <td>0.677266</td>\n",
       "      <td>0.451997</td>\n",
       "      <td>0.503465</td>\n",
       "    </tr>\n",
       "    <tr>\n",
       "      <th>PMSC5</th>\n",
       "      <td>0.558086</td>\n",
       "      <td>0.169039</td>\n",
       "      <td>0.848358</td>\n",
       "      <td>0.251634</td>\n",
       "      <td>-0.343067</td>\n",
       "      <td>0.152714</td>\n",
       "      <td>0.294507</td>\n",
       "      <td>0.937904</td>\n",
       "      <td>0.550381</td>\n",
       "      <td>0.677266</td>\n",
       "      <td>1.000000</td>\n",
       "      <td>-0.132847</td>\n",
       "      <td>0.269205</td>\n",
       "    </tr>\n",
       "    <tr>\n",
       "      <th>PMSC6</th>\n",
       "      <td>-0.222648</td>\n",
       "      <td>-0.199684</td>\n",
       "      <td>-0.040852</td>\n",
       "      <td>0.101266</td>\n",
       "      <td>0.490423</td>\n",
       "      <td>-0.151093</td>\n",
       "      <td>-0.188969</td>\n",
       "      <td>0.015008</td>\n",
       "      <td>0.166527</td>\n",
       "      <td>0.451997</td>\n",
       "      <td>-0.132847</td>\n",
       "      <td>1.000000</td>\n",
       "      <td>0.253761</td>\n",
       "    </tr>\n",
       "    <tr>\n",
       "      <th>PMSC7</th>\n",
       "      <td>0.000750</td>\n",
       "      <td>0.056782</td>\n",
       "      <td>0.245313</td>\n",
       "      <td>-0.067659</td>\n",
       "      <td>-0.043559</td>\n",
       "      <td>0.101088</td>\n",
       "      <td>0.203022</td>\n",
       "      <td>0.180194</td>\n",
       "      <td>0.283025</td>\n",
       "      <td>0.503465</td>\n",
       "      <td>0.269205</td>\n",
       "      <td>0.253761</td>\n",
       "      <td>1.000000</td>\n",
       "    </tr>\n",
       "  </tbody>\n",
       "</table>\n",
       "</div>"
      ],
      "text/plain": [
       "           PINST1    PINST2    PINST3  ...     PMSC5     PMSC6     PMSC7\n",
       "PINST1   1.000000  0.338367  0.597879  ...  0.558086 -0.222648  0.000750\n",
       "PINST2   0.338367  1.000000  0.093675  ...  0.169039 -0.199684  0.056782\n",
       "PINST3   0.597879  0.093675  1.000000  ...  0.848358 -0.040852  0.245313\n",
       "PINST4   0.130127 -0.183986  0.352469  ...  0.251634  0.101266 -0.067659\n",
       "PINST5  -0.447292 -0.182364 -0.260195  ... -0.343067  0.490423 -0.043559\n",
       "PSOCP1   0.009085  0.279104 -0.040284  ...  0.152714 -0.151093  0.101088\n",
       "PSOCP2   0.038749  0.182385  0.099573  ...  0.294507 -0.188969  0.203022\n",
       "PTRANS1  0.523431  0.158542  0.795678  ...  0.937904  0.015008  0.180194\n",
       "PTRANS3  0.203411 -0.207638  0.627130  ...  0.550381  0.166527  0.283025\n",
       "PMSC2    0.385699  0.028404  0.745147  ...  0.677266  0.451997  0.503465\n",
       "PMSC5    0.558086  0.169039  0.848358  ...  1.000000 -0.132847  0.269205\n",
       "PMSC6   -0.222648 -0.199684 -0.040852  ... -0.132847  1.000000  0.253761\n",
       "PMSC7    0.000750  0.056782  0.245313  ...  0.269205  0.253761  1.000000\n",
       "\n",
       "[13 rows x 13 columns]"
      ]
     },
     "execution_count": 19,
     "metadata": {
      "tags": []
     },
     "output_type": "execute_result"
    }
   ],
   "source": [
    "dff.corr()"
   ]
  },
  {
   "cell_type": "markdown",
   "metadata": {
    "id": "2yll5tBp2GiX"
   },
   "source": [
    "Bartlett’s test of sphericity checks whether or not the observed variables intercorrelate at all using the observed correlation matrix against the identity matrix. If the test found statistically insignificant, you should not employ a factor analysis."
   ]
  },
  {
   "cell_type": "code",
   "execution_count": 20,
   "metadata": {
    "id": "Ru5E76x02GiX"
   },
   "outputs": [],
   "source": [
    "#df.dtypes"
   ]
  },
  {
   "cell_type": "code",
   "execution_count": 26,
   "metadata": {
    "colab": {
     "base_uri": "https://localhost:8080/"
    },
    "id": "bGiD9KXg2GiX",
    "outputId": "07db3f10-2192-4ca3-f856-180670bfe524"
   },
   "outputs": [
    {
     "data": {
      "text/plain": [
       "(2253.8970226075203, 0.0)"
      ]
     },
     "execution_count": 26,
     "metadata": {
      "tags": []
     },
     "output_type": "execute_result"
    }
   ],
   "source": [
    "chi_square_value,p_value=calculate_bartlett_sphericity(dff)\n",
    "chi_square_value, p_value"
   ]
  },
  {
   "cell_type": "code",
   "execution_count": 30,
   "metadata": {
    "colab": {
     "base_uri": "https://localhost:8080/"
    },
    "id": "_k_StA752GiY",
    "outputId": "e85bb62c-adea-4e41-81da-8126ea8bc83b"
   },
   "outputs": [
    {
     "name": "stderr",
     "output_type": "stream",
     "text": [
      "/usr/local/lib/python3.6/dist-packages/factor_analyzer/utils.py:248: UserWarning: The inverse of the variance-covariance matrix was calculated using the Moore-Penrose generalized matrix inversion, due to its determinant being at or very close to zero.\n",
      "  warnings.warn('The inverse of the variance-covariance matrix '\n"
     ]
    }
   ],
   "source": [
    "from factor_analyzer.factor_analyzer import calculate_kmo\n",
    "kmo_all,kmo_model=calculate_kmo(dff)"
   ]
  },
  {
   "cell_type": "code",
   "execution_count": 24,
   "metadata": {
    "colab": {
     "base_uri": "https://localhost:8080/"
    },
    "id": "rOVib6Yz2GiZ",
    "outputId": "24f2b57b-3906-4692-92dc-f0847f6d07a1"
   },
   "outputs": [
    {
     "data": {
      "text/plain": [
       "0.4470396596765674"
      ]
     },
     "execution_count": 24,
     "metadata": {
      "tags": []
     },
     "output_type": "execute_result"
    }
   ],
   "source": [
    "kmo_model"
   ]
  },
  {
   "cell_type": "code",
   "execution_count": 31,
   "metadata": {
    "colab": {
     "base_uri": "https://localhost:8080/"
    },
    "id": "UzvIr2HiBPGs",
    "outputId": "3d69ba89-5d7b-412f-dbbe-4f093b15f5eb"
   },
   "outputs": [
    {
     "data": {
      "text/plain": [
       "array([0.66743486, 0.52950069, 0.69857324, 0.41787802, 0.48882423,\n",
       "       0.48630606, 0.30871037, 0.67679396, 0.69005547, 0.56226467,\n",
       "       0.63852551, 0.27703697, 0.35240687])"
      ]
     },
     "execution_count": 31,
     "metadata": {
      "tags": []
     },
     "output_type": "execute_result"
    }
   ],
   "source": [
    "kmo_all"
   ]
  },
  {
   "cell_type": "code",
   "execution_count": 36,
   "metadata": {
    "colab": {
     "base_uri": "https://localhost:8080/"
    },
    "id": "Mzz3c78b2Gib",
    "outputId": "3d33f971-0afb-4a3e-db7d-34d0535eea70"
   },
   "outputs": [
    {
     "data": {
      "text/plain": [
       "array([4.56136266, 2.55937851, 1.57093923, 1.10304102, 0.86811178,\n",
       "       0.66762509, 0.59161624, 0.48272733, 0.23716402, 0.17602161,\n",
       "       0.13403753, 0.03221275, 0.01576223])"
      ]
     },
     "execution_count": 36,
     "metadata": {
      "tags": []
     },
     "output_type": "execute_result"
    }
   ],
   "source": [
    "# Create factor analysis object and perform factor analysis\n",
    "fa = FactorAnalyzer(5, rotation='promax')\n",
    "fa.fit(dff)\n",
    "# Check Eigenvalues\n",
    "ev, v = fa.get_eigenvalues()\n",
    "ev"
   ]
  },
  {
   "cell_type": "code",
   "execution_count": 37,
   "metadata": {
    "colab": {
     "base_uri": "https://localhost:8080/",
     "height": 295
    },
    "id": "9dGz_jGV2Gic",
    "outputId": "91552d39-a200-4a05-b7f0-e45cf2d50122"
   },
   "outputs": [
    {
     "data": {
      "image/png": "[encoded data removed]",
      "text/plain": [
       "<Figure size 432x288 with 1 Axes>"
      ]
     },
     "metadata": {
      "needs_background": "light",
      "tags": []
     },
     "output_type": "display_data"
    }
   ],
   "source": [
    "# Create scree plot using matplotlib\n",
    "df = dff\n",
    "plt.scatter(range(1,df.shape[1]+1),ev)\n",
    "plt.plot(range(1,df.shape[1]+1),ev)\n",
    "plt.title('Scree Plot')\n",
    "plt.xlabel('Factors')\n",
    "plt.ylabel('Eigenvalue')\n",
    "plt.savefig('screen1.png')\n",
    "plt.show()"
   ]
  },
  {
   "cell_type": "code",
   "execution_count": 43,
   "metadata": {
    "colab": {
     "base_uri": "https://localhost:8080/"
    },
    "id": "oTu4rfLRB67o",
    "outputId": "820040ba-0ba3-4e09-87aa-c6505e9c584b"
   },
   "outputs": [
    {
     "data": {
      "text/plain": [
       "FactorAnalyzer(bounds=(0.005, 1), impute='median', is_corr_matrix=False,\n",
       "               method='principal', n_factors=3, rotation='promax',\n",
       "               rotation_kwargs={}, use_smc=True)"
      ]
     },
     "execution_count": 43,
     "metadata": {
      "tags": []
     },
     "output_type": "execute_result"
    }
   ],
   "source": [
    "# Create factor analysis object and perform factor analysis\n",
    "fa = FactorAnalyzer(3, rotation='promax', method='principal')\n",
    "fa.fit(df)"
   ]
  },
  {
   "cell_type": "code",
   "execution_count": 44,
   "metadata": {
    "colab": {
     "base_uri": "https://localhost:8080/"
    },
    "id": "1w7Bp2tRDW8U",
    "outputId": "25c5d386-d99e-41de-dbe5-7db1a6a5cb2b"
   },
   "outputs": [
    {
     "data": {
      "text/plain": [
       "array([[ 0.62272308,  0.04580241, -0.41591405],\n",
       "       [ 0.10969742,  0.47829067, -0.1921321 ],\n",
       "       [ 0.92461432, -0.01895357, -0.01241491],\n",
       "       [ 0.36671484, -0.41278233, -0.10062212],\n",
       "       [-0.32612728, -0.25614596,  0.5554428 ],\n",
       "       [-0.05348225,  0.81508704, -0.02818701],\n",
       "       [ 0.01996934,  0.8046345 ,  0.07465743],\n",
       "       [ 0.91759646,  0.03270728,  0.0112445 ],\n",
       "       [ 0.75118304, -0.45686857,  0.14095012],\n",
       "       [ 0.84238299, -0.01337565,  0.48840724],\n",
       "       [ 0.91527349,  0.20487366, -0.02902362],\n",
       "       [ 0.0610768 , -0.11776415,  0.82133409],\n",
       "       [ 0.35478413,  0.41353223,  0.66211793]])"
      ]
     },
     "execution_count": 44,
     "metadata": {
      "tags": []
     },
     "output_type": "execute_result"
    }
   ],
   "source": [
    "fa.loadings_"
   ]
  },
  {
   "cell_type": "code",
   "execution_count": 45,
   "metadata": {
    "colab": {
     "base_uri": "https://localhost:8080/"
    },
    "id": "Z5bGjdsBDcO1",
    "outputId": "bac22473-c1ac-4975-864a-9bfb4b67df42"
   },
   "outputs": [
    {
     "data": {
      "text/plain": [
       "array([0.5628664 , 0.27771023, 0.85542502, 0.31499384, 0.48048646,\n",
       "       0.66802174, 0.65340919, 0.84317946, 0.79287179, 0.94832963,\n",
       "       0.88054114, 0.69218846, 0.73528084])"
      ]
     },
     "execution_count": 45,
     "metadata": {
      "tags": []
     },
     "output_type": "execute_result"
    }
   ],
   "source": [
    "fa.get_communalities()"
   ]
  },
  {
   "cell_type": "code",
   "execution_count": 47,
   "metadata": {
    "colab": {
     "base_uri": "https://localhost:8080/"
    },
    "id": "d-7Pt093Dz4f",
    "outputId": "599e515b-0f2e-4700-b1da-c3fd77daf41c"
   },
   "outputs": [
    {
     "data": {
      "text/plain": [
       "array([0.4371336 , 0.72228977, 0.14457498, 0.68500616, 0.51951354,\n",
       "       0.33197826, 0.34659081, 0.15682054, 0.20712821, 0.05167037,\n",
       "       0.11945886, 0.30781154, 0.26471916])"
      ]
     },
     "execution_count": 47,
     "metadata": {
      "tags": []
     },
     "output_type": "execute_result"
    }
   ],
   "source": [
    "fa.get_uniquenesses()"
   ]
  },
  {
   "cell_type": "code",
   "execution_count": 52,
   "metadata": {
    "colab": {
     "base_uri": "https://localhost:8080/"
    },
    "id": "M82WsLIKE6g6",
    "outputId": "d8f504cb-4dc9-48a2-aa34-5b2616a42696"
   },
   "outputs": [
    {
     "data": {
      "text/plain": [
       "FactorAnalyzer(bounds=(0.005, 1), impute='median', is_corr_matrix=False,\n",
       "               method='principal', n_factors=4, rotation='varimax',\n",
       "               rotation_kwargs={}, use_smc=True)"
      ]
     },
     "execution_count": 52,
     "metadata": {
      "tags": []
     },
     "output_type": "execute_result"
    }
   ],
   "source": [
    "# Create factor analysis object and perform factor analysis\n",
    "fa = FactorAnalyzer(4, rotation='varimax', method='principal')\n",
    "fa.fit(df)"
   ]
  },
  {
   "cell_type": "code",
   "execution_count": 53,
   "metadata": {
    "colab": {
     "base_uri": "https://localhost:8080/"
    },
    "id": "HnocgWT2GRT2",
    "outputId": "a530af74-8a24-440f-d534-7e5f79245082"
   },
   "outputs": [
    {
     "data": {
      "text/plain": [
       "array([[ 0.66765941, -0.07274211, -0.40600862, -0.2986179 ],\n",
       "       [ 0.18149523,  0.15540782, -0.19313629, -0.72819457],\n",
       "       [ 0.91853335,  0.03437743, -0.03431745,  0.1093759 ],\n",
       "       [ 0.30926256, -0.04211361, -0.1170678 ,  0.74086968],\n",
       "       [-0.36532959, -0.28433387,  0.58332695,  0.12769181],\n",
       "       [-0.03184983,  0.84857788, -0.12070058, -0.15494104],\n",
       "       [ 0.02762405,  0.89018233, -0.02782825, -0.03803318],\n",
       "       [ 0.91812543,  0.03916036, -0.00939717,  0.01868811],\n",
       "       [ 0.71001131, -0.31772338,  0.1538339 ,  0.40133185],\n",
       "       [ 0.82692609, -0.11832924,  0.48259797, -0.06618678],\n",
       "       [ 0.91727472,  0.25612032, -0.07453265,  0.04520095],\n",
       "       [ 0.01375638, -0.17438769,  0.82701643,  0.10408292],\n",
       "       [ 0.34101543,  0.3060005 ,  0.6155061 , -0.14970914]])"
      ]
     },
     "execution_count": 53,
     "metadata": {
      "tags": []
     },
     "output_type": "execute_result"
    }
   ],
   "source": [
    "fa.loadings_"
   ]
  },
  {
   "cell_type": "code",
   "execution_count": 54,
   "metadata": {
    "colab": {
     "base_uri": "https://localhost:8080/"
    },
    "id": "YqsPk_sEGV4I",
    "outputId": "88c87976-2997-4767-d9d7-25872fde3cf6"
   },
   "outputs": [
    {
     "data": {
      "text/plain": [
       "array([0.70507615, 0.62466106, 0.85802609, 0.66000963, 0.57088699,\n",
       "       0.75967418, 0.79540861, 0.84492539, 0.78979633, 0.93509006,\n",
       "       0.91458878, 0.72538973, 0.61118841])"
      ]
     },
     "execution_count": 54,
     "metadata": {
      "tags": []
     },
     "output_type": "execute_result"
    }
   ],
   "source": [
    "fa.get_communalities()"
   ]
  },
  {
   "cell_type": "code",
   "execution_count": 55,
   "metadata": {
    "colab": {
     "base_uri": "https://localhost:8080/"
    },
    "id": "hePjMBEFGZen",
    "outputId": "d27a9299-5fbc-4af4-c968-4948d1dc02e2"
   },
   "outputs": [
    {
     "data": {
      "text/plain": [
       "array([0.29492385, 0.37533894, 0.14197391, 0.33999037, 0.42911301,\n",
       "       0.24032582, 0.20459139, 0.15507461, 0.21020367, 0.06490994,\n",
       "       0.08541122, 0.27461027, 0.38881159])"
      ]
     },
     "execution_count": 55,
     "metadata": {
      "tags": []
     },
     "output_type": "execute_result"
    }
   ],
   "source": [
    "fa.get_uniquenesses()"
   ]
  },
  {
   "cell_type": "code",
   "execution_count": 56,
   "metadata": {
    "colab": {
     "base_uri": "https://localhost:8080/"
    },
    "id": "6ezZVQhzGcyr",
    "outputId": "320dd5a3-6feb-40e4-fb05-35f339dbd064"
   },
   "outputs": [
    {
     "data": {
      "text/plain": [
       "[array([4.54205046, 1.9318816 , 1.89765358, 1.42313578]),\n",
       " array([0.3493885 , 0.14860628, 0.14597335, 0.10947198]),\n",
       " array([0.3493885 , 0.49799477, 0.64396813, 0.75344011])]"
      ]
     },
     "execution_count": 56,
     "metadata": {
      "tags": []
     },
     "output_type": "execute_result"
    }
   ],
   "source": [
    "# Get variance of each factors\n",
    "list(fa.get_factor_variance())"
   ]
  },
  {
   "cell_type": "code",
   "execution_count": 60,
   "metadata": {
    "id": "SUwJieqEHJkb"
   },
   "outputs": [],
   "source": [
    "ls = ['SS Loadings','Proportion Var','Cumulative Var']\n",
    "vr = pd.DataFrame(ls)\n",
    "vr['1'] = (list(fa.get_factor_variance())[0][0],list(fa.get_factor_variance())[1][0], list(fa.get_factor_variance())[2][0])\n",
    "vr['2'] = (list(fa.get_factor_variance())[0][1],list(fa.get_factor_variance())[1][1], list(fa.get_factor_variance())[2][1])\n",
    "vr['3'] = (list(fa.get_factor_variance())[0][2],list(fa.get_factor_variance())[1][2], list(fa.get_factor_variance())[2][2])\n",
    "vr['4'] = (list(fa.get_factor_variance())[0][3],list(fa.get_factor_variance())[1][3], list(fa.get_factor_variance())[2][3])\n",
    "vr.columns = ('properties','factor1', 'factor2', 'factor3', 'factor4')"
   ]
  },
  {
   "cell_type": "code",
   "execution_count": 61,
   "metadata": {
    "colab": {
     "base_uri": "https://localhost:8080/",
     "height": 144
    },
    "id": "rz-VJALHHza5",
    "outputId": "3623e0dd-7296-4985-a28b-70125fc0b467"
   },
   "outputs": [
    {
     "data": {
      "text/html": [
       "<div>\n",
       "<style scoped>\n",
       "    .dataframe tbody tr th:only-of-type {\n",
       "        vertical-align: middle;\n",
       "    }\n",
       "\n",
       "    .dataframe tbody tr th {\n",
       "        vertical-align: top;\n",
       "    }\n",
       "\n",
       "    .dataframe thead th {\n",
       "        text-align: right;\n",
       "    }\n",
       "</style>\n",
       "<table border=\"1\" class=\"dataframe\">\n",
       "  <thead>\n",
       "    <tr style=\"text-align: right;\">\n",
       "      <th></th>\n",
       "      <th>properties</th>\n",
       "      <th>factor1</th>\n",
       "      <th>factor2</th>\n",
       "      <th>factor3</th>\n",
       "      <th>factor4</th>\n",
       "    </tr>\n",
       "  </thead>\n",
       "  <tbody>\n",
       "    <tr>\n",
       "      <th>0</th>\n",
       "      <td>SS Loadings</td>\n",
       "      <td>4.542050</td>\n",
       "      <td>1.931882</td>\n",
       "      <td>1.897654</td>\n",
       "      <td>1.423136</td>\n",
       "    </tr>\n",
       "    <tr>\n",
       "      <th>1</th>\n",
       "      <td>Proportion Var</td>\n",
       "      <td>0.349388</td>\n",
       "      <td>0.148606</td>\n",
       "      <td>0.145973</td>\n",
       "      <td>0.109472</td>\n",
       "    </tr>\n",
       "    <tr>\n",
       "      <th>2</th>\n",
       "      <td>Cumulative Var</td>\n",
       "      <td>0.349388</td>\n",
       "      <td>0.497995</td>\n",
       "      <td>0.643968</td>\n",
       "      <td>0.753440</td>\n",
       "    </tr>\n",
       "  </tbody>\n",
       "</table>\n",
       "</div>"
      ],
      "text/plain": [
       "       properties   factor1   factor2   factor3   factor4\n",
       "0     SS Loadings  4.542050  1.931882  1.897654  1.423136\n",
       "1  Proportion Var  0.349388  0.148606  0.145973  0.109472\n",
       "2  Cumulative Var  0.349388  0.497995  0.643968  0.753440"
      ]
     },
     "execution_count": 61,
     "metadata": {
      "tags": []
     },
     "output_type": "execute_result"
    }
   ],
   "source": [
    "vr"
   ]
  },
  {
   "cell_type": "markdown",
   "metadata": {
    "id": "cSBBTiq5H3qd"
   },
   "source": [
    "# NEW DATA"
   ]
  },
  {
   "cell_type": "code",
   "execution_count": 4,
   "metadata": {},
   "outputs": [],
   "source": [
    "import pandas as pd"
   ]
  },
  {
   "cell_type": "code",
   "execution_count": 20,
   "metadata": {},
   "outputs": [],
   "source": [
    "df = pd.read_csv('dave_final.csv')"
   ]
  },
  {
   "cell_type": "code",
   "execution_count": 21,
   "metadata": {},
   "outputs": [
    {
     "data": {
      "text/html": [
       "<div>\n",
       "<style scoped>\n",
       "    .dataframe tbody tr th:only-of-type {\n",
       "        vertical-align: middle;\n",
       "    }\n",
       "\n",
       "    .dataframe tbody tr th {\n",
       "        vertical-align: top;\n",
       "    }\n",
       "\n",
       "    .dataframe thead th {\n",
       "        text-align: right;\n",
       "    }\n",
       "</style>\n",
       "<table border=\"1\" class=\"dataframe\">\n",
       "  <thead>\n",
       "    <tr style=\"text-align: right;\">\n",
       "      <th></th>\n",
       "      <th>Unnamed: 0</th>\n",
       "      <th>PINST1</th>\n",
       "      <th>PINST2</th>\n",
       "      <th>PINST3</th>\n",
       "      <th>PINST4</th>\n",
       "      <th>PSOCP1</th>\n",
       "      <th>PSOCP2</th>\n",
       "      <th>PTRANS1</th>\n",
       "      <th>PTRANS2</th>\n",
       "      <th>PTRANS3</th>\n",
       "      <th>...</th>\n",
       "      <th>PSOCP11</th>\n",
       "      <th>PSOCP22</th>\n",
       "      <th>PTRANS11</th>\n",
       "      <th>PTRANS22</th>\n",
       "      <th>PTRANS33</th>\n",
       "      <th>PMSC11</th>\n",
       "      <th>PMSC22</th>\n",
       "      <th>PMSC33</th>\n",
       "      <th>PROFITS</th>\n",
       "      <th>AGE</th>\n",
       "    </tr>\n",
       "  </thead>\n",
       "  <tbody>\n",
       "    <tr>\n",
       "      <th>0</th>\n",
       "      <td>0</td>\n",
       "      <td>4</td>\n",
       "      <td>4</td>\n",
       "      <td>5</td>\n",
       "      <td>5</td>\n",
       "      <td>3</td>\n",
       "      <td>4</td>\n",
       "      <td>5</td>\n",
       "      <td>5</td>\n",
       "      <td>5</td>\n",
       "      <td>...</td>\n",
       "      <td>3</td>\n",
       "      <td>4</td>\n",
       "      <td>5</td>\n",
       "      <td>5</td>\n",
       "      <td>5</td>\n",
       "      <td>5</td>\n",
       "      <td>5</td>\n",
       "      <td>5</td>\n",
       "      <td>33</td>\n",
       "      <td>2</td>\n",
       "    </tr>\n",
       "    <tr>\n",
       "      <th>1</th>\n",
       "      <td>1</td>\n",
       "      <td>3</td>\n",
       "      <td>4</td>\n",
       "      <td>1</td>\n",
       "      <td>4</td>\n",
       "      <td>4</td>\n",
       "      <td>4</td>\n",
       "      <td>3</td>\n",
       "      <td>2</td>\n",
       "      <td>3</td>\n",
       "      <td>...</td>\n",
       "      <td>4</td>\n",
       "      <td>4</td>\n",
       "      <td>3</td>\n",
       "      <td>2</td>\n",
       "      <td>3</td>\n",
       "      <td>5</td>\n",
       "      <td>5</td>\n",
       "      <td>5</td>\n",
       "      <td>33</td>\n",
       "      <td>2</td>\n",
       "    </tr>\n",
       "    <tr>\n",
       "      <th>2</th>\n",
       "      <td>2</td>\n",
       "      <td>4</td>\n",
       "      <td>4</td>\n",
       "      <td>5</td>\n",
       "      <td>4</td>\n",
       "      <td>4</td>\n",
       "      <td>5</td>\n",
       "      <td>5</td>\n",
       "      <td>5</td>\n",
       "      <td>5</td>\n",
       "      <td>...</td>\n",
       "      <td>4</td>\n",
       "      <td>5</td>\n",
       "      <td>5</td>\n",
       "      <td>5</td>\n",
       "      <td>5</td>\n",
       "      <td>5</td>\n",
       "      <td>5</td>\n",
       "      <td>5</td>\n",
       "      <td>33</td>\n",
       "      <td>2</td>\n",
       "    </tr>\n",
       "    <tr>\n",
       "      <th>3</th>\n",
       "      <td>3</td>\n",
       "      <td>4</td>\n",
       "      <td>4</td>\n",
       "      <td>5</td>\n",
       "      <td>5</td>\n",
       "      <td>5</td>\n",
       "      <td>4</td>\n",
       "      <td>5</td>\n",
       "      <td>5</td>\n",
       "      <td>5</td>\n",
       "      <td>...</td>\n",
       "      <td>5</td>\n",
       "      <td>4</td>\n",
       "      <td>5</td>\n",
       "      <td>5</td>\n",
       "      <td>5</td>\n",
       "      <td>5</td>\n",
       "      <td>5</td>\n",
       "      <td>5</td>\n",
       "      <td>36</td>\n",
       "      <td>5</td>\n",
       "    </tr>\n",
       "    <tr>\n",
       "      <th>4</th>\n",
       "      <td>4</td>\n",
       "      <td>4</td>\n",
       "      <td>4</td>\n",
       "      <td>4</td>\n",
       "      <td>4</td>\n",
       "      <td>4</td>\n",
       "      <td>5</td>\n",
       "      <td>5</td>\n",
       "      <td>5</td>\n",
       "      <td>4</td>\n",
       "      <td>...</td>\n",
       "      <td>4</td>\n",
       "      <td>5</td>\n",
       "      <td>5</td>\n",
       "      <td>5</td>\n",
       "      <td>4</td>\n",
       "      <td>5</td>\n",
       "      <td>5</td>\n",
       "      <td>4</td>\n",
       "      <td>37</td>\n",
       "      <td>3</td>\n",
       "    </tr>\n",
       "  </tbody>\n",
       "</table>\n",
       "<p>5 rows × 27 columns</p>\n",
       "</div>"
      ],
      "text/plain": [
       "   Unnamed: 0  PINST1  PINST2  PINST3  PINST4  PSOCP1  PSOCP2  PTRANS1  \\\n",
       "0           0       4       4       5       5       3       4        5   \n",
       "1           1       3       4       1       4       4       4        3   \n",
       "2           2       4       4       5       4       4       5        5   \n",
       "3           3       4       4       5       5       5       4        5   \n",
       "4           4       4       4       4       4       4       5        5   \n",
       "\n",
       "   PTRANS2  PTRANS3  ...  PSOCP11  PSOCP22  PTRANS11  PTRANS22  PTRANS33  \\\n",
       "0        5        5  ...        3        4         5         5         5   \n",
       "1        2        3  ...        4        4         3         2         3   \n",
       "2        5        5  ...        4        5         5         5         5   \n",
       "3        5        5  ...        5        4         5         5         5   \n",
       "4        5        4  ...        4        5         5         5         4   \n",
       "\n",
       "   PMSC11  PMSC22  PMSC33  PROFITS  AGE  \n",
       "0       5       5       5       33    2  \n",
       "1       5       5       5       33    2  \n",
       "2       5       5       5       33    2  \n",
       "3       5       5       5       36    5  \n",
       "4       5       5       4       37    3  \n",
       "\n",
       "[5 rows x 27 columns]"
      ]
     },
     "execution_count": 21,
     "metadata": {},
     "output_type": "execute_result"
    }
   ],
   "source": [
    "df.head()"
   ]
  },
  {
   "cell_type": "code",
   "execution_count": 22,
   "metadata": {},
   "outputs": [
    {
     "data": {
      "text/plain": [
       "Index(['Unnamed: 0', 'PINST1', 'PINST2', 'PINST3', 'PINST4', 'PSOCP1',\n",
       "       'PSOCP2', 'PTRANS1', 'PTRANS2', 'PTRANS3', 'PMSC1', 'PMSC2', 'PMSC3',\n",
       "       'PINST11', 'PINST22', 'PINST33', 'PINST44', 'PSOCP11', 'PSOCP22',\n",
       "       'PTRANS11', 'PTRANS22', 'PTRANS33', 'PMSC11', 'PMSC22', 'PMSC33',\n",
       "       'PROFITS', 'AGE'],\n",
       "      dtype='object')"
      ]
     },
     "execution_count": 22,
     "metadata": {},
     "output_type": "execute_result"
    }
   ],
   "source": [
    "df.columns"
   ]
  },
  {
   "cell_type": "code",
   "execution_count": 23,
   "metadata": {},
   "outputs": [],
   "source": [
    "df2 = df[['PINST1', 'PINST2', 'PINST3', 'PINST4', 'PSOCP1',\n",
    "       'PSOCP2', 'PTRANS1', 'PTRANS2', 'PTRANS3', 'PMSC1', 'PMSC2', 'PMSC3',\n",
    "       'PINST11', 'PINST22', 'PINST33', 'PINST44', 'PSOCP11', 'PSOCP22',\n",
    "       'PTRANS11', 'PTRANS22', 'PTRANS33', 'PMSC11', 'PMSC22', 'PMSC33']]"
   ]
  },
  {
   "cell_type": "code",
   "execution_count": 24,
   "metadata": {},
   "outputs": [],
   "source": [
    "dfcorr = df2.corr()"
   ]
  },
  {
   "cell_type": "code",
   "execution_count": 25,
   "metadata": {},
   "outputs": [
    {
     "data": {
      "text/html": [
       "<div>\n",
       "<style scoped>\n",
       "    .dataframe tbody tr th:only-of-type {\n",
       "        vertical-align: middle;\n",
       "    }\n",
       "\n",
       "    .dataframe tbody tr th {\n",
       "        vertical-align: top;\n",
       "    }\n",
       "\n",
       "    .dataframe thead th {\n",
       "        text-align: right;\n",
       "    }\n",
       "</style>\n",
       "<table border=\"1\" class=\"dataframe\">\n",
       "  <thead>\n",
       "    <tr style=\"text-align: right;\">\n",
       "      <th></th>\n",
       "      <th>PINST1</th>\n",
       "      <th>PINST2</th>\n",
       "      <th>PINST3</th>\n",
       "      <th>PINST4</th>\n",
       "      <th>PSOCP1</th>\n",
       "      <th>PSOCP2</th>\n",
       "      <th>PTRANS1</th>\n",
       "      <th>PTRANS2</th>\n",
       "      <th>PTRANS3</th>\n",
       "      <th>PMSC1</th>\n",
       "      <th>...</th>\n",
       "      <th>PINST33</th>\n",
       "      <th>PINST44</th>\n",
       "      <th>PSOCP11</th>\n",
       "      <th>PSOCP22</th>\n",
       "      <th>PTRANS11</th>\n",
       "      <th>PTRANS22</th>\n",
       "      <th>PTRANS33</th>\n",
       "      <th>PMSC11</th>\n",
       "      <th>PMSC22</th>\n",
       "      <th>PMSC33</th>\n",
       "    </tr>\n",
       "  </thead>\n",
       "  <tbody>\n",
       "    <tr>\n",
       "      <th>PINST1</th>\n",
       "      <td>1.000000</td>\n",
       "      <td>0.338367</td>\n",
       "      <td>0.597879</td>\n",
       "      <td>0.130127</td>\n",
       "      <td>0.009085</td>\n",
       "      <td>0.038749</td>\n",
       "      <td>0.523431</td>\n",
       "      <td>0.558086</td>\n",
       "      <td>0.203411</td>\n",
       "      <td>-0.447292</td>\n",
       "      <td>...</td>\n",
       "      <td>0.188046</td>\n",
       "      <td>0.045845</td>\n",
       "      <td>-0.014824</td>\n",
       "      <td>-0.126548</td>\n",
       "      <td>0.292084</td>\n",
       "      <td>0.260065</td>\n",
       "      <td>0.069011</td>\n",
       "      <td>0.259626</td>\n",
       "      <td>0.204797</td>\n",
       "      <td>0.016497</td>\n",
       "    </tr>\n",
       "    <tr>\n",
       "      <th>PINST2</th>\n",
       "      <td>0.338367</td>\n",
       "      <td>1.000000</td>\n",
       "      <td>0.093675</td>\n",
       "      <td>-0.183986</td>\n",
       "      <td>0.279104</td>\n",
       "      <td>0.182385</td>\n",
       "      <td>0.158542</td>\n",
       "      <td>0.169039</td>\n",
       "      <td>-0.207638</td>\n",
       "      <td>-0.182364</td>\n",
       "      <td>...</td>\n",
       "      <td>0.090106</td>\n",
       "      <td>-0.067481</td>\n",
       "      <td>0.045544</td>\n",
       "      <td>-0.087468</td>\n",
       "      <td>0.156210</td>\n",
       "      <td>0.109544</td>\n",
       "      <td>-0.020753</td>\n",
       "      <td>0.150908</td>\n",
       "      <td>0.093926</td>\n",
       "      <td>-0.053798</td>\n",
       "    </tr>\n",
       "    <tr>\n",
       "      <th>PINST3</th>\n",
       "      <td>0.597879</td>\n",
       "      <td>0.093675</td>\n",
       "      <td>1.000000</td>\n",
       "      <td>0.352469</td>\n",
       "      <td>-0.040284</td>\n",
       "      <td>0.099573</td>\n",
       "      <td>0.795678</td>\n",
       "      <td>0.848358</td>\n",
       "      <td>0.627130</td>\n",
       "      <td>-0.260195</td>\n",
       "      <td>...</td>\n",
       "      <td>0.428826</td>\n",
       "      <td>0.328108</td>\n",
       "      <td>-0.020633</td>\n",
       "      <td>0.128541</td>\n",
       "      <td>0.489868</td>\n",
       "      <td>0.518169</td>\n",
       "      <td>0.368217</td>\n",
       "      <td>0.443132</td>\n",
       "      <td>0.446122</td>\n",
       "      <td>0.289642</td>\n",
       "    </tr>\n",
       "    <tr>\n",
       "      <th>PINST4</th>\n",
       "      <td>0.130127</td>\n",
       "      <td>-0.183986</td>\n",
       "      <td>0.352469</td>\n",
       "      <td>1.000000</td>\n",
       "      <td>-0.108064</td>\n",
       "      <td>-0.081556</td>\n",
       "      <td>0.236008</td>\n",
       "      <td>0.251634</td>\n",
       "      <td>0.444793</td>\n",
       "      <td>0.008422</td>\n",
       "      <td>...</td>\n",
       "      <td>0.114290</td>\n",
       "      <td>0.310775</td>\n",
       "      <td>-0.219241</td>\n",
       "      <td>-0.077720</td>\n",
       "      <td>0.128540</td>\n",
       "      <td>0.146407</td>\n",
       "      <td>0.340181</td>\n",
       "      <td>0.111073</td>\n",
       "      <td>0.121218</td>\n",
       "      <td>0.312444</td>\n",
       "    </tr>\n",
       "    <tr>\n",
       "      <th>PSOCP1</th>\n",
       "      <td>0.009085</td>\n",
       "      <td>0.279104</td>\n",
       "      <td>-0.040284</td>\n",
       "      <td>-0.108064</td>\n",
       "      <td>1.000000</td>\n",
       "      <td>0.590841</td>\n",
       "      <td>0.016478</td>\n",
       "      <td>0.152714</td>\n",
       "      <td>-0.363713</td>\n",
       "      <td>-0.382580</td>\n",
       "      <td>...</td>\n",
       "      <td>0.134471</td>\n",
       "      <td>-0.143608</td>\n",
       "      <td>0.299065</td>\n",
       "      <td>0.286667</td>\n",
       "      <td>0.047458</td>\n",
       "      <td>0.116435</td>\n",
       "      <td>-0.190597</td>\n",
       "      <td>0.049781</td>\n",
       "      <td>0.127041</td>\n",
       "      <td>-0.177345</td>\n",
       "    </tr>\n",
       "    <tr>\n",
       "      <th>PSOCP2</th>\n",
       "      <td>0.038749</td>\n",
       "      <td>0.182385</td>\n",
       "      <td>0.099573</td>\n",
       "      <td>-0.081556</td>\n",
       "      <td>0.590841</td>\n",
       "      <td>1.000000</td>\n",
       "      <td>0.070277</td>\n",
       "      <td>0.294507</td>\n",
       "      <td>-0.316529</td>\n",
       "      <td>-0.137468</td>\n",
       "      <td>...</td>\n",
       "      <td>0.091726</td>\n",
       "      <td>-0.225169</td>\n",
       "      <td>0.129882</td>\n",
       "      <td>0.491485</td>\n",
       "      <td>-0.082940</td>\n",
       "      <td>0.020518</td>\n",
       "      <td>-0.270116</td>\n",
       "      <td>-0.057753</td>\n",
       "      <td>0.070217</td>\n",
       "      <td>-0.232630</td>\n",
       "    </tr>\n",
       "    <tr>\n",
       "      <th>PTRANS1</th>\n",
       "      <td>0.523431</td>\n",
       "      <td>0.158542</td>\n",
       "      <td>0.795678</td>\n",
       "      <td>0.236008</td>\n",
       "      <td>0.016478</td>\n",
       "      <td>0.070277</td>\n",
       "      <td>1.000000</td>\n",
       "      <td>0.937904</td>\n",
       "      <td>0.616147</td>\n",
       "      <td>-0.275854</td>\n",
       "      <td>...</td>\n",
       "      <td>0.430774</td>\n",
       "      <td>0.318489</td>\n",
       "      <td>0.032322</td>\n",
       "      <td>0.107597</td>\n",
       "      <td>0.511022</td>\n",
       "      <td>0.485419</td>\n",
       "      <td>0.372048</td>\n",
       "      <td>0.486209</td>\n",
       "      <td>0.438351</td>\n",
       "      <td>0.303481</td>\n",
       "    </tr>\n",
       "    <tr>\n",
       "      <th>PTRANS2</th>\n",
       "      <td>0.558086</td>\n",
       "      <td>0.169039</td>\n",
       "      <td>0.848358</td>\n",
       "      <td>0.251634</td>\n",
       "      <td>0.152714</td>\n",
       "      <td>0.294507</td>\n",
       "      <td>0.937904</td>\n",
       "      <td>1.000000</td>\n",
       "      <td>0.550381</td>\n",
       "      <td>-0.343067</td>\n",
       "      <td>...</td>\n",
       "      <td>0.454872</td>\n",
       "      <td>0.242080</td>\n",
       "      <td>0.051355</td>\n",
       "      <td>0.240688</td>\n",
       "      <td>0.481648</td>\n",
       "      <td>0.513844</td>\n",
       "      <td>0.286711</td>\n",
       "      <td>0.449372</td>\n",
       "      <td>0.463228</td>\n",
       "      <td>0.216554</td>\n",
       "    </tr>\n",
       "    <tr>\n",
       "      <th>PTRANS3</th>\n",
       "      <td>0.203411</td>\n",
       "      <td>-0.207638</td>\n",
       "      <td>0.627130</td>\n",
       "      <td>0.444793</td>\n",
       "      <td>-0.363713</td>\n",
       "      <td>-0.316529</td>\n",
       "      <td>0.616147</td>\n",
       "      <td>0.550381</td>\n",
       "      <td>1.000000</td>\n",
       "      <td>-0.145927</td>\n",
       "      <td>...</td>\n",
       "      <td>0.277265</td>\n",
       "      <td>0.549416</td>\n",
       "      <td>-0.113693</td>\n",
       "      <td>-0.044681</td>\n",
       "      <td>0.360901</td>\n",
       "      <td>0.359158</td>\n",
       "      <td>0.645435</td>\n",
       "      <td>0.320734</td>\n",
       "      <td>0.295182</td>\n",
       "      <td>0.564010</td>\n",
       "    </tr>\n",
       "    <tr>\n",
       "      <th>PMSC1</th>\n",
       "      <td>-0.447292</td>\n",
       "      <td>-0.182364</td>\n",
       "      <td>-0.260195</td>\n",
       "      <td>0.008422</td>\n",
       "      <td>-0.382580</td>\n",
       "      <td>-0.137468</td>\n",
       "      <td>-0.275854</td>\n",
       "      <td>-0.343067</td>\n",
       "      <td>-0.145927</td>\n",
       "      <td>1.000000</td>\n",
       "      <td>...</td>\n",
       "      <td>-0.073323</td>\n",
       "      <td>0.118323</td>\n",
       "      <td>-0.227144</td>\n",
       "      <td>-0.109695</td>\n",
       "      <td>-0.029467</td>\n",
       "      <td>-0.091088</td>\n",
       "      <td>0.112274</td>\n",
       "      <td>-0.015032</td>\n",
       "      <td>-0.076975</td>\n",
       "      <td>0.129382</td>\n",
       "    </tr>\n",
       "    <tr>\n",
       "      <th>PMSC2</th>\n",
       "      <td>0.385699</td>\n",
       "      <td>0.028404</td>\n",
       "      <td>0.745147</td>\n",
       "      <td>0.130871</td>\n",
       "      <td>-0.116730</td>\n",
       "      <td>-0.135410</td>\n",
       "      <td>0.746309</td>\n",
       "      <td>0.677266</td>\n",
       "      <td>0.627555</td>\n",
       "      <td>-0.038783</td>\n",
       "      <td>...</td>\n",
       "      <td>0.381220</td>\n",
       "      <td>0.430359</td>\n",
       "      <td>-0.014335</td>\n",
       "      <td>-0.039443</td>\n",
       "      <td>0.502717</td>\n",
       "      <td>0.473670</td>\n",
       "      <td>0.455984</td>\n",
       "      <td>0.459793</td>\n",
       "      <td>0.400232</td>\n",
       "      <td>0.386372</td>\n",
       "    </tr>\n",
       "    <tr>\n",
       "      <th>PMSC3</th>\n",
       "      <td>-0.222648</td>\n",
       "      <td>-0.199684</td>\n",
       "      <td>-0.040852</td>\n",
       "      <td>0.101266</td>\n",
       "      <td>-0.151093</td>\n",
       "      <td>-0.188969</td>\n",
       "      <td>0.015008</td>\n",
       "      <td>-0.132847</td>\n",
       "      <td>0.166527</td>\n",
       "      <td>0.490423</td>\n",
       "      <td>...</td>\n",
       "      <td>-0.014941</td>\n",
       "      <td>0.336786</td>\n",
       "      <td>-0.187855</td>\n",
       "      <td>-0.233130</td>\n",
       "      <td>0.066369</td>\n",
       "      <td>-0.001879</td>\n",
       "      <td>0.316537</td>\n",
       "      <td>0.066283</td>\n",
       "      <td>-0.011029</td>\n",
       "      <td>0.324812</td>\n",
       "    </tr>\n",
       "    <tr>\n",
       "      <th>PINST11</th>\n",
       "      <td>-0.002346</td>\n",
       "      <td>-0.013916</td>\n",
       "      <td>0.146699</td>\n",
       "      <td>-0.162410</td>\n",
       "      <td>0.205581</td>\n",
       "      <td>0.350933</td>\n",
       "      <td>0.143049</td>\n",
       "      <td>0.231464</td>\n",
       "      <td>-0.034559</td>\n",
       "      <td>-0.086487</td>\n",
       "      <td>...</td>\n",
       "      <td>0.256200</td>\n",
       "      <td>-0.160483</td>\n",
       "      <td>0.423953</td>\n",
       "      <td>0.746147</td>\n",
       "      <td>0.155535</td>\n",
       "      <td>0.248864</td>\n",
       "      <td>-0.226693</td>\n",
       "      <td>0.150257</td>\n",
       "      <td>0.249588</td>\n",
       "      <td>-0.219950</td>\n",
       "    </tr>\n",
       "    <tr>\n",
       "      <th>PINST22</th>\n",
       "      <td>0.259626</td>\n",
       "      <td>0.150908</td>\n",
       "      <td>0.443132</td>\n",
       "      <td>0.111073</td>\n",
       "      <td>0.049781</td>\n",
       "      <td>-0.057753</td>\n",
       "      <td>0.486209</td>\n",
       "      <td>0.449372</td>\n",
       "      <td>0.320734</td>\n",
       "      <td>-0.015032</td>\n",
       "      <td>...</td>\n",
       "      <td>0.823534</td>\n",
       "      <td>0.653954</td>\n",
       "      <td>0.015684</td>\n",
       "      <td>0.078318</td>\n",
       "      <td>0.925580</td>\n",
       "      <td>0.852497</td>\n",
       "      <td>0.567726</td>\n",
       "      <td>0.965169</td>\n",
       "      <td>0.911079</td>\n",
       "      <td>0.583080</td>\n",
       "    </tr>\n",
       "    <tr>\n",
       "      <th>PINST33</th>\n",
       "      <td>0.188046</td>\n",
       "      <td>0.090106</td>\n",
       "      <td>0.428826</td>\n",
       "      <td>0.114290</td>\n",
       "      <td>0.134471</td>\n",
       "      <td>0.091726</td>\n",
       "      <td>0.430774</td>\n",
       "      <td>0.454872</td>\n",
       "      <td>0.277265</td>\n",
       "      <td>-0.073323</td>\n",
       "      <td>...</td>\n",
       "      <td>1.000000</td>\n",
       "      <td>0.494177</td>\n",
       "      <td>0.173790</td>\n",
       "      <td>0.333766</td>\n",
       "      <td>0.779972</td>\n",
       "      <td>0.830696</td>\n",
       "      <td>0.435276</td>\n",
       "      <td>0.850311</td>\n",
       "      <td>0.905984</td>\n",
       "      <td>0.458058</td>\n",
       "    </tr>\n",
       "    <tr>\n",
       "      <th>PINST44</th>\n",
       "      <td>0.045845</td>\n",
       "      <td>-0.067481</td>\n",
       "      <td>0.328108</td>\n",
       "      <td>0.310775</td>\n",
       "      <td>-0.143608</td>\n",
       "      <td>-0.225169</td>\n",
       "      <td>0.318489</td>\n",
       "      <td>0.242080</td>\n",
       "      <td>0.549416</td>\n",
       "      <td>0.118323</td>\n",
       "      <td>...</td>\n",
       "      <td>0.494177</td>\n",
       "      <td>1.000000</td>\n",
       "      <td>-0.259187</td>\n",
       "      <td>-0.232294</td>\n",
       "      <td>0.584090</td>\n",
       "      <td>0.507937</td>\n",
       "      <td>0.854505</td>\n",
       "      <td>0.624437</td>\n",
       "      <td>0.568985</td>\n",
       "      <td>0.882178</td>\n",
       "    </tr>\n",
       "    <tr>\n",
       "      <th>PSOCP11</th>\n",
       "      <td>-0.014824</td>\n",
       "      <td>0.045544</td>\n",
       "      <td>-0.020633</td>\n",
       "      <td>-0.219241</td>\n",
       "      <td>0.299065</td>\n",
       "      <td>0.129882</td>\n",
       "      <td>0.032322</td>\n",
       "      <td>0.051355</td>\n",
       "      <td>-0.113693</td>\n",
       "      <td>-0.227144</td>\n",
       "      <td>...</td>\n",
       "      <td>0.173790</td>\n",
       "      <td>-0.259187</td>\n",
       "      <td>1.000000</td>\n",
       "      <td>0.580001</td>\n",
       "      <td>0.016235</td>\n",
       "      <td>0.149450</td>\n",
       "      <td>-0.360075</td>\n",
       "      <td>0.015684</td>\n",
       "      <td>0.163901</td>\n",
       "      <td>-0.329040</td>\n",
       "    </tr>\n",
       "    <tr>\n",
       "      <th>PSOCP22</th>\n",
       "      <td>-0.126548</td>\n",
       "      <td>-0.087468</td>\n",
       "      <td>0.128541</td>\n",
       "      <td>-0.077720</td>\n",
       "      <td>0.286667</td>\n",
       "      <td>0.491485</td>\n",
       "      <td>0.107597</td>\n",
       "      <td>0.240688</td>\n",
       "      <td>-0.044681</td>\n",
       "      <td>-0.109695</td>\n",
       "      <td>...</td>\n",
       "      <td>0.333766</td>\n",
       "      <td>-0.232294</td>\n",
       "      <td>0.580001</td>\n",
       "      <td>1.000000</td>\n",
       "      <td>0.081069</td>\n",
       "      <td>0.297843</td>\n",
       "      <td>-0.292936</td>\n",
       "      <td>0.078318</td>\n",
       "      <td>0.317794</td>\n",
       "      <td>-0.282327</td>\n",
       "    </tr>\n",
       "    <tr>\n",
       "      <th>PTRANS11</th>\n",
       "      <td>0.292084</td>\n",
       "      <td>0.156210</td>\n",
       "      <td>0.489868</td>\n",
       "      <td>0.128540</td>\n",
       "      <td>0.047458</td>\n",
       "      <td>-0.082940</td>\n",
       "      <td>0.511022</td>\n",
       "      <td>0.481648</td>\n",
       "      <td>0.360901</td>\n",
       "      <td>-0.029467</td>\n",
       "      <td>...</td>\n",
       "      <td>0.779972</td>\n",
       "      <td>0.584090</td>\n",
       "      <td>0.016235</td>\n",
       "      <td>0.081069</td>\n",
       "      <td>1.000000</td>\n",
       "      <td>0.941527</td>\n",
       "      <td>0.622665</td>\n",
       "      <td>0.925580</td>\n",
       "      <td>0.811168</td>\n",
       "      <td>0.492513</td>\n",
       "    </tr>\n",
       "    <tr>\n",
       "      <th>PTRANS22</th>\n",
       "      <td>0.260065</td>\n",
       "      <td>0.109544</td>\n",
       "      <td>0.518169</td>\n",
       "      <td>0.146407</td>\n",
       "      <td>0.116435</td>\n",
       "      <td>0.020518</td>\n",
       "      <td>0.485419</td>\n",
       "      <td>0.513844</td>\n",
       "      <td>0.359158</td>\n",
       "      <td>-0.091088</td>\n",
       "      <td>...</td>\n",
       "      <td>0.830696</td>\n",
       "      <td>0.507937</td>\n",
       "      <td>0.149450</td>\n",
       "      <td>0.297843</td>\n",
       "      <td>0.941527</td>\n",
       "      <td>1.000000</td>\n",
       "      <td>0.558751</td>\n",
       "      <td>0.852497</td>\n",
       "      <td>0.863150</td>\n",
       "      <td>0.415907</td>\n",
       "    </tr>\n",
       "    <tr>\n",
       "      <th>PTRANS33</th>\n",
       "      <td>0.069011</td>\n",
       "      <td>-0.020753</td>\n",
       "      <td>0.368217</td>\n",
       "      <td>0.340181</td>\n",
       "      <td>-0.190597</td>\n",
       "      <td>-0.270116</td>\n",
       "      <td>0.372048</td>\n",
       "      <td>0.286711</td>\n",
       "      <td>0.645435</td>\n",
       "      <td>0.112274</td>\n",
       "      <td>...</td>\n",
       "      <td>0.435276</td>\n",
       "      <td>0.854505</td>\n",
       "      <td>-0.360075</td>\n",
       "      <td>-0.292936</td>\n",
       "      <td>0.622665</td>\n",
       "      <td>0.558751</td>\n",
       "      <td>1.000000</td>\n",
       "      <td>0.567726</td>\n",
       "      <td>0.461984</td>\n",
       "      <td>0.876187</td>\n",
       "    </tr>\n",
       "    <tr>\n",
       "      <th>PMSC11</th>\n",
       "      <td>0.259626</td>\n",
       "      <td>0.150908</td>\n",
       "      <td>0.443132</td>\n",
       "      <td>0.111073</td>\n",
       "      <td>0.049781</td>\n",
       "      <td>-0.057753</td>\n",
       "      <td>0.486209</td>\n",
       "      <td>0.449372</td>\n",
       "      <td>0.320734</td>\n",
       "      <td>-0.015032</td>\n",
       "      <td>...</td>\n",
       "      <td>0.850311</td>\n",
       "      <td>0.624437</td>\n",
       "      <td>0.015684</td>\n",
       "      <td>0.078318</td>\n",
       "      <td>0.925580</td>\n",
       "      <td>0.852497</td>\n",
       "      <td>0.567726</td>\n",
       "      <td>1.000000</td>\n",
       "      <td>0.911079</td>\n",
       "      <td>0.583080</td>\n",
       "    </tr>\n",
       "    <tr>\n",
       "      <th>PMSC22</th>\n",
       "      <td>0.204797</td>\n",
       "      <td>0.093926</td>\n",
       "      <td>0.446122</td>\n",
       "      <td>0.121218</td>\n",
       "      <td>0.127041</td>\n",
       "      <td>0.070217</td>\n",
       "      <td>0.438351</td>\n",
       "      <td>0.463228</td>\n",
       "      <td>0.295182</td>\n",
       "      <td>-0.076975</td>\n",
       "      <td>...</td>\n",
       "      <td>0.905984</td>\n",
       "      <td>0.568985</td>\n",
       "      <td>0.163901</td>\n",
       "      <td>0.317794</td>\n",
       "      <td>0.811168</td>\n",
       "      <td>0.863150</td>\n",
       "      <td>0.461984</td>\n",
       "      <td>0.911079</td>\n",
       "      <td>1.000000</td>\n",
       "      <td>0.529506</td>\n",
       "    </tr>\n",
       "    <tr>\n",
       "      <th>PMSC33</th>\n",
       "      <td>0.016497</td>\n",
       "      <td>-0.053798</td>\n",
       "      <td>0.289642</td>\n",
       "      <td>0.312444</td>\n",
       "      <td>-0.177345</td>\n",
       "      <td>-0.232630</td>\n",
       "      <td>0.303481</td>\n",
       "      <td>0.216554</td>\n",
       "      <td>0.564010</td>\n",
       "      <td>0.129382</td>\n",
       "      <td>...</td>\n",
       "      <td>0.458058</td>\n",
       "      <td>0.882178</td>\n",
       "      <td>-0.329040</td>\n",
       "      <td>-0.282327</td>\n",
       "      <td>0.492513</td>\n",
       "      <td>0.415907</td>\n",
       "      <td>0.876187</td>\n",
       "      <td>0.583080</td>\n",
       "      <td>0.529506</td>\n",
       "      <td>1.000000</td>\n",
       "    </tr>\n",
       "  </tbody>\n",
       "</table>\n",
       "<p>24 rows × 24 columns</p>\n",
       "</div>"
      ],
      "text/plain": [
       "            PINST1    PINST2    PINST3    PINST4    PSOCP1    PSOCP2  \\\n",
       "PINST1    1.000000  0.338367  0.597879  0.130127  0.009085  0.038749   \n",
       "PINST2    0.338367  1.000000  0.093675 -0.183986  0.279104  0.182385   \n",
       "PINST3    0.597879  0.093675  1.000000  0.352469 -0.040284  0.099573   \n",
       "PINST4    0.130127 -0.183986  0.352469  1.000000 -0.108064 -0.081556   \n",
       "PSOCP1    0.009085  0.279104 -0.040284 -0.108064  1.000000  0.590841   \n",
       "PSOCP2    0.038749  0.182385  0.099573 -0.081556  0.590841  1.000000   \n",
       "PTRANS1   0.523431  0.158542  0.795678  0.236008  0.016478  0.070277   \n",
       "PTRANS2   0.558086  0.169039  0.848358  0.251634  0.152714  0.294507   \n",
       "PTRANS3   0.203411 -0.207638  0.627130  0.444793 -0.363713 -0.316529   \n",
       "PMSC1    -0.447292 -0.182364 -0.260195  0.008422 -0.382580 -0.137468   \n",
       "PMSC2     0.385699  0.028404  0.745147  0.130871 -0.116730 -0.135410   \n",
       "PMSC3    -0.222648 -0.199684 -0.040852  0.101266 -0.151093 -0.188969   \n",
       "PINST11  -0.002346 -0.013916  0.146699 -0.162410  0.205581  0.350933   \n",
       "PINST22   0.259626  0.150908  0.443132  0.111073  0.049781 -0.057753   \n",
       "PINST33   0.188046  0.090106  0.428826  0.114290  0.134471  0.091726   \n",
       "PINST44   0.045845 -0.067481  0.328108  0.310775 -0.143608 -0.225169   \n",
       "PSOCP11  -0.014824  0.045544 -0.020633 -0.219241  0.299065  0.129882   \n",
       "PSOCP22  -0.126548 -0.087468  0.128541 -0.077720  0.286667  0.491485   \n",
       "PTRANS11  0.292084  0.156210  0.489868  0.128540  0.047458 -0.082940   \n",
       "PTRANS22  0.260065  0.109544  0.518169  0.146407  0.116435  0.020518   \n",
       "PTRANS33  0.069011 -0.020753  0.368217  0.340181 -0.190597 -0.270116   \n",
       "PMSC11    0.259626  0.150908  0.443132  0.111073  0.049781 -0.057753   \n",
       "PMSC22    0.204797  0.093926  0.446122  0.121218  0.127041  0.070217   \n",
       "PMSC33    0.016497 -0.053798  0.289642  0.312444 -0.177345 -0.232630   \n",
       "\n",
       "           PTRANS1   PTRANS2   PTRANS3     PMSC1  ...   PINST33   PINST44  \\\n",
       "PINST1    0.523431  0.558086  0.203411 -0.447292  ...  0.188046  0.045845   \n",
       "PINST2    0.158542  0.169039 -0.207638 -0.182364  ...  0.090106 -0.067481   \n",
       "PINST3    0.795678  0.848358  0.627130 -0.260195  ...  0.428826  0.328108   \n",
       "PINST4    0.236008  0.251634  0.444793  0.008422  ...  0.114290  0.310775   \n",
       "PSOCP1    0.016478  0.152714 -0.363713 -0.382580  ...  0.134471 -0.143608   \n",
       "PSOCP2    0.070277  0.294507 -0.316529 -0.137468  ...  0.091726 -0.225169   \n",
       "PTRANS1   1.000000  0.937904  0.616147 -0.275854  ...  0.430774  0.318489   \n",
       "PTRANS2   0.937904  1.000000  0.550381 -0.343067  ...  0.454872  0.242080   \n",
       "PTRANS3   0.616147  0.550381  1.000000 -0.145927  ...  0.277265  0.549416   \n",
       "PMSC1    -0.275854 -0.343067 -0.145927  1.000000  ... -0.073323  0.118323   \n",
       "PMSC2     0.746309  0.677266  0.627555 -0.038783  ...  0.381220  0.430359   \n",
       "PMSC3     0.015008 -0.132847  0.166527  0.490423  ... -0.014941  0.336786   \n",
       "PINST11   0.143049  0.231464 -0.034559 -0.086487  ...  0.256200 -0.160483   \n",
       "PINST22   0.486209  0.449372  0.320734 -0.015032  ...  0.823534  0.653954   \n",
       "PINST33   0.430774  0.454872  0.277265 -0.073323  ...  1.000000  0.494177   \n",
       "PINST44   0.318489  0.242080  0.549416  0.118323  ...  0.494177  1.000000   \n",
       "PSOCP11   0.032322  0.051355 -0.113693 -0.227144  ...  0.173790 -0.259187   \n",
       "PSOCP22   0.107597  0.240688 -0.044681 -0.109695  ...  0.333766 -0.232294   \n",
       "PTRANS11  0.511022  0.481648  0.360901 -0.029467  ...  0.779972  0.584090   \n",
       "PTRANS22  0.485419  0.513844  0.359158 -0.091088  ...  0.830696  0.507937   \n",
       "PTRANS33  0.372048  0.286711  0.645435  0.112274  ...  0.435276  0.854505   \n",
       "PMSC11    0.486209  0.449372  0.320734 -0.015032  ...  0.850311  0.624437   \n",
       "PMSC22    0.438351  0.463228  0.295182 -0.076975  ...  0.905984  0.568985   \n",
       "PMSC33    0.303481  0.216554  0.564010  0.129382  ...  0.458058  0.882178   \n",
       "\n",
       "           PSOCP11   PSOCP22  PTRANS11  PTRANS22  PTRANS33    PMSC11  \\\n",
       "PINST1   -0.014824 -0.126548  0.292084  0.260065  0.069011  0.259626   \n",
       "PINST2    0.045544 -0.087468  0.156210  0.109544 -0.020753  0.150908   \n",
       "PINST3   -0.020633  0.128541  0.489868  0.518169  0.368217  0.443132   \n",
       "PINST4   -0.219241 -0.077720  0.128540  0.146407  0.340181  0.111073   \n",
       "PSOCP1    0.299065  0.286667  0.047458  0.116435 -0.190597  0.049781   \n",
       "PSOCP2    0.129882  0.491485 -0.082940  0.020518 -0.270116 -0.057753   \n",
       "PTRANS1   0.032322  0.107597  0.511022  0.485419  0.372048  0.486209   \n",
       "PTRANS2   0.051355  0.240688  0.481648  0.513844  0.286711  0.449372   \n",
       "PTRANS3  -0.113693 -0.044681  0.360901  0.359158  0.645435  0.320734   \n",
       "PMSC1    -0.227144 -0.109695 -0.029467 -0.091088  0.112274 -0.015032   \n",
       "PMSC2    -0.014335 -0.039443  0.502717  0.473670  0.455984  0.459793   \n",
       "PMSC3    -0.187855 -0.233130  0.066369 -0.001879  0.316537  0.066283   \n",
       "PINST11   0.423953  0.746147  0.155535  0.248864 -0.226693  0.150257   \n",
       "PINST22   0.015684  0.078318  0.925580  0.852497  0.567726  0.965169   \n",
       "PINST33   0.173790  0.333766  0.779972  0.830696  0.435276  0.850311   \n",
       "PINST44  -0.259187 -0.232294  0.584090  0.507937  0.854505  0.624437   \n",
       "PSOCP11   1.000000  0.580001  0.016235  0.149450 -0.360075  0.015684   \n",
       "PSOCP22   0.580001  1.000000  0.081069  0.297843 -0.292936  0.078318   \n",
       "PTRANS11  0.016235  0.081069  1.000000  0.941527  0.622665  0.925580   \n",
       "PTRANS22  0.149450  0.297843  0.941527  1.000000  0.558751  0.852497   \n",
       "PTRANS33 -0.360075 -0.292936  0.622665  0.558751  1.000000  0.567726   \n",
       "PMSC11    0.015684  0.078318  0.925580  0.852497  0.567726  1.000000   \n",
       "PMSC22    0.163901  0.317794  0.811168  0.863150  0.461984  0.911079   \n",
       "PMSC33   -0.329040 -0.282327  0.492513  0.415907  0.876187  0.583080   \n",
       "\n",
       "            PMSC22    PMSC33  \n",
       "PINST1    0.204797  0.016497  \n",
       "PINST2    0.093926 -0.053798  \n",
       "PINST3    0.446122  0.289642  \n",
       "PINST4    0.121218  0.312444  \n",
       "PSOCP1    0.127041 -0.177345  \n",
       "PSOCP2    0.070217 -0.232630  \n",
       "PTRANS1   0.438351  0.303481  \n",
       "PTRANS2   0.463228  0.216554  \n",
       "PTRANS3   0.295182  0.564010  \n",
       "PMSC1    -0.076975  0.129382  \n",
       "PMSC2     0.400232  0.386372  \n",
       "PMSC3    -0.011029  0.324812  \n",
       "PINST11   0.249588 -0.219950  \n",
       "PINST22   0.911079  0.583080  \n",
       "PINST33   0.905984  0.458058  \n",
       "PINST44   0.568985  0.882178  \n",
       "PSOCP11   0.163901 -0.329040  \n",
       "PSOCP22   0.317794 -0.282327  \n",
       "PTRANS11  0.811168  0.492513  \n",
       "PTRANS22  0.863150  0.415907  \n",
       "PTRANS33  0.461984  0.876187  \n",
       "PMSC11    0.911079  0.583080  \n",
       "PMSC22    1.000000  0.529506  \n",
       "PMSC33    0.529506  1.000000  \n",
       "\n",
       "[24 rows x 24 columns]"
      ]
     },
     "execution_count": 25,
     "metadata": {},
     "output_type": "execute_result"
    }
   ],
   "source": [
    "dfcorr"
   ]
  },
  {
   "cell_type": "code",
   "execution_count": 26,
   "metadata": {},
   "outputs": [
    {
     "name": "stderr",
     "output_type": "stream",
     "text": [
      "/home/jupyterlab/conda/envs/python/lib/python3.6/site-packages/factor_analyzer/factor_analyzer.py:118: RuntimeWarning: invalid value encountered in log\n",
      "  statistic = -np.log(corr_det) * (n - 1 - (2 * p + 5) / 6)\n"
     ]
    },
    {
     "data": {
      "text/plain": [
       "(nan, nan)"
      ]
     },
     "execution_count": 26,
     "metadata": {},
     "output_type": "execute_result"
    }
   ],
   "source": [
    "chi_square_value,p_value=calculate_bartlett_sphericity(df2)\n",
    "chi_square_value, p_value"
   ]
  },
  {
   "cell_type": "code",
   "execution_count": 27,
   "metadata": {},
   "outputs": [
    {
     "name": "stderr",
     "output_type": "stream",
     "text": [
      "/home/jupyterlab/conda/envs/python/lib/python3.6/site-packages/factor_analyzer/utils.py:248: UserWarning: The inverse of the variance-covariance matrix was calculated using the Moore-Penrose generalized matrix inversion, due to its determinant being at or very close to zero.\n",
      "  warnings.warn('The inverse of the variance-covariance matrix '\n"
     ]
    },
    {
     "data": {
      "text/plain": [
       "0.7391631683314126"
      ]
     },
     "execution_count": 27,
     "metadata": {},
     "output_type": "execute_result"
    }
   ],
   "source": [
    "from factor_analyzer.factor_analyzer import calculate_kmo\n",
    "kmo_all,kmo_model=calculate_kmo(df2)\n",
    "kmo_model"
   ]
  },
  {
   "cell_type": "code",
   "execution_count": 28,
   "metadata": {},
   "outputs": [
    {
     "data": {
      "text/plain": [
       "array([ 8.72190203e+00,  4.06262194e+00,  2.62091143e+00,  1.74505581e+00,\n",
       "        1.24234706e+00,  1.19858523e+00,  8.63434743e-01,  6.86667772e-01,\n",
       "        5.93625558e-01,  4.32999693e-01,  3.96032279e-01,  2.98789469e-01,\n",
       "        2.82808855e-01,  1.98255947e-01,  1.60635009e-01,  1.22634405e-01,\n",
       "        1.08604413e-01,  9.27735525e-02,  5.94730758e-02,  4.59230351e-02,\n",
       "        2.93081184e-02,  2.52887963e-02,  1.13217813e-02, -4.52069461e-15])"
      ]
     },
     "execution_count": 28,
     "metadata": {},
     "output_type": "execute_result"
    }
   ],
   "source": [
    "# Create factor analysis object and perform factor analysis\n",
    "dff = df2\n",
    "fa = FactorAnalyzer(5, rotation='promax')\n",
    "fa.fit(dff)\n",
    "# Check Eigenvalues\n",
    "ev, v = fa.get_eigenvalues()\n",
    "ev"
   ]
  },
  {
   "cell_type": "code",
   "execution_count": 29,
   "metadata": {},
   "outputs": [
    {
     "data": {
      "image/png": "[encoded data removed]",
      "text/plain": [
       "<Figure size 432x288 with 1 Axes>"
      ]
     },
     "metadata": {
      "needs_background": "light"
     },
     "output_type": "display_data"
    }
   ],
   "source": [
    "# Create scree plot using matplotlib\n",
    "df = dff\n",
    "plt.scatter(range(1,df.shape[1]+1),ev)\n",
    "plt.plot(range(1,df.shape[1]+1),ev)\n",
    "plt.title('Scree Plot')\n",
    "plt.xlabel('Factors')\n",
    "plt.ylabel('Eigenvalue')\n",
    "plt.savefig('screen1.png')\n",
    "plt.show()"
   ]
  },
  {
   "cell_type": "code",
   "execution_count": 30,
   "metadata": {},
   "outputs": [
    {
     "data": {
      "text/plain": [
       "FactorAnalyzer(bounds=(0.005, 1), impute='median', is_corr_matrix=False,\n",
       "        method='principal', n_factors=3, rotation='promax',\n",
       "        rotation_kwargs={}, use_smc=True)"
      ]
     },
     "execution_count": 30,
     "metadata": {},
     "output_type": "execute_result"
    }
   ],
   "source": [
    "# Create factor analysis object and perform factor analysis\n",
    "fa = FactorAnalyzer(3, rotation='promax', method='principal')\n",
    "fa.fit(df)"
   ]
  },
  {
   "cell_type": "code",
   "execution_count": null,
   "metadata": {},
   "outputs": [],
   "source": []
  }
 ],
 "metadata": {
  "colab": {
   "name": "DAVE.ipynb",
   "provenance": []
  },
  "kernelspec": {
   "display_name": "Python",
   "language": "python",
   "name": "conda-env-python-py"
  },
  "language_info": {
   "codemirror_mode": {
    "name": "ipython",
    "version": 3
   },
   "file_extension": ".py",
   "mimetype": "text/x-python",
   "name": "python",
   "nbconvert_exporter": "python",
   "pygments_lexer": "ipython3",
   "version": "3.6.11"
  }
 },
 "nbformat": 4,
 "nbformat_minor": 4
}
