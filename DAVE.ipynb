{
  "nbformat": 4,
  "nbformat_minor": 0,
  "metadata": {
    "kernelspec": {
      "display_name": "Python",
      "language": "python",
      "name": "conda-env-python-py"
    },
    "language_info": {
      "codemirror_mode": {
        "name": "ipython",
        "version": 3
      },
      "file_extension": ".py",
      "mimetype": "text/x-python",
      "name": "python",
      "nbconvert_exporter": "python",
      "pygments_lexer": "ipython3",
      "version": "3.6.11"
    },
    "colab": {
      "name": "DAVE.ipynb",
      "provenance": [],
      "include_colab_link": true
    }
  },
  "cells": [
    {
      "cell_type": "markdown",
      "metadata": {
        "id": "view-in-github",
        "colab_type": "text"
      },
      "source": [
        "<a href=\"https://colab.research.google.com/github/EmmanuelAmeyaw/pdsnd_github/blob/master/DAVE.ipynb\" target=\"_parent\"><img src=\"https://colab.research.google.com/assets/colab-badge.svg\" alt=\"Open In Colab\"/></a>"
      ]
    },
    {
      "cell_type": "code",
      "metadata": {
        "id": "TKCyqO_V2GiU"
      },
      "source": [
        "import pandas as pd\n",
        "#!pip install factor_analyzer\n",
        "from factor_analyzer.factor_analyzer import calculate_bartlett_sphericity\n",
        "from factor_analyzer import FactorAnalyzer\n",
        "import matplotlib.pyplot as plt"
      ],
      "execution_count": null,
      "outputs": []
    },
    {
      "cell_type": "code",
      "metadata": {
        "id": "7LrU3ACr2GiV"
      },
      "source": [
        "df = pd.read_csv('d_data.csv')"
      ],
      "execution_count": null,
      "outputs": []
    },
    {
      "cell_type": "code",
      "metadata": {
        "colab": {
          "base_uri": "https://localhost:8080/",
          "height": 144
        },
        "id": "Z7-VRd1D2GiW",
        "outputId": "2fafd6e8-bf9d-4bb4-9376-f7bb13f264a7"
      },
      "source": [
        "df.head(3)"
      ],
      "execution_count": null,
      "outputs": [
        {
          "output_type": "execute_result",
          "data": {
            "text/html": [
              "<div>\n",
              "<style scoped>\n",
              "    .dataframe tbody tr th:only-of-type {\n",
              "        vertical-align: middle;\n",
              "    }\n",
              "\n",
              "    .dataframe tbody tr th {\n",
              "        vertical-align: top;\n",
              "    }\n",
              "\n",
              "    .dataframe thead th {\n",
              "        text-align: right;\n",
              "    }\n",
              "</style>\n",
              "<table border=\"1\" class=\"dataframe\">\n",
              "  <thead>\n",
              "    <tr style=\"text-align: right;\">\n",
              "      <th></th>\n",
              "      <th>PINST1</th>\n",
              "      <th>PINST2</th>\n",
              "      <th>PINST3</th>\n",
              "      <th>PINST4</th>\n",
              "      <th>PINST5</th>\n",
              "      <th>PINST6</th>\n",
              "      <th>PSOCP1</th>\n",
              "      <th>PSOCP2</th>\n",
              "      <th>PSCOP3</th>\n",
              "      <th>PSCOP4</th>\n",
              "      <th>PTRANS1</th>\n",
              "      <th>PTRANS2</th>\n",
              "      <th>PTRANS3</th>\n",
              "      <th>PMSC1</th>\n",
              "      <th>PMSC2</th>\n",
              "      <th>PMSC3</th>\n",
              "      <th>PMSC4</th>\n",
              "      <th>PMSC5</th>\n",
              "      <th>PMSC6</th>\n",
              "      <th>PMSC7</th>\n",
              "    </tr>\n",
              "  </thead>\n",
              "  <tbody>\n",
              "    <tr>\n",
              "      <th>0</th>\n",
              "      <td>4</td>\n",
              "      <td>4</td>\n",
              "      <td>5</td>\n",
              "      <td>5</td>\n",
              "      <td>4</td>\n",
              "      <td>5</td>\n",
              "      <td>3</td>\n",
              "      <td>4</td>\n",
              "      <td>4</td>\n",
              "      <td>5</td>\n",
              "      <td>5</td>\n",
              "      <td>5</td>\n",
              "      <td>5</td>\n",
              "      <td>4</td>\n",
              "      <td>5</td>\n",
              "      <td>5</td>\n",
              "      <td>5</td>\n",
              "      <td>5</td>\n",
              "      <td>5</td>\n",
              "      <td>4</td>\n",
              "    </tr>\n",
              "    <tr>\n",
              "      <th>1</th>\n",
              "      <td>3</td>\n",
              "      <td>4</td>\n",
              "      <td>1</td>\n",
              "      <td>4</td>\n",
              "      <td>4</td>\n",
              "      <td>3</td>\n",
              "      <td>4</td>\n",
              "      <td>4</td>\n",
              "      <td>4</td>\n",
              "      <td>4</td>\n",
              "      <td>3</td>\n",
              "      <td>2</td>\n",
              "      <td>3</td>\n",
              "      <td>4</td>\n",
              "      <td>3</td>\n",
              "      <td>3</td>\n",
              "      <td>5</td>\n",
              "      <td>2</td>\n",
              "      <td>5</td>\n",
              "      <td>3</td>\n",
              "    </tr>\n",
              "    <tr>\n",
              "      <th>2</th>\n",
              "      <td>4</td>\n",
              "      <td>4</td>\n",
              "      <td>5</td>\n",
              "      <td>4</td>\n",
              "      <td>3</td>\n",
              "      <td>5</td>\n",
              "      <td>4</td>\n",
              "      <td>5</td>\n",
              "      <td>4</td>\n",
              "      <td>4</td>\n",
              "      <td>5</td>\n",
              "      <td>5</td>\n",
              "      <td>5</td>\n",
              "      <td>3</td>\n",
              "      <td>5</td>\n",
              "      <td>5</td>\n",
              "      <td>4</td>\n",
              "      <td>5</td>\n",
              "      <td>5</td>\n",
              "      <td>5</td>\n",
              "    </tr>\n",
              "  </tbody>\n",
              "</table>\n",
              "</div>"
            ],
            "text/plain": [
              "   PINST1  PINST2  PINST3  PINST4  PINST5  ...  PMSC3  PMSC4  PMSC5  PMSC6  PMSC7\n",
              "0       4       4       5       5       4  ...      5      5      5      5      4\n",
              "1       3       4       1       4       4  ...      3      5      2      5      3\n",
              "2       4       4       5       4       3  ...      5      4      5      5      5\n",
              "\n",
              "[3 rows x 20 columns]"
            ]
          },
          "metadata": {
            "tags": []
          },
          "execution_count": 6
        }
      ]
    },
    {
      "cell_type": "code",
      "metadata": {
        "colab": {
          "base_uri": "https://localhost:8080/"
        },
        "id": "v7tlFXsa9TWV",
        "outputId": "226e81f9-a1e6-43bb-eb43-2182ca730e35"
      },
      "source": [
        "df.columns"
      ],
      "execution_count": null,
      "outputs": [
        {
          "output_type": "execute_result",
          "data": {
            "text/plain": [
              "Index(['PINST1', 'PINST2', 'PINST3', 'PINST4', 'PINST5', 'PINST6', 'PSOCP1',\n",
              "       'PSOCP2', 'PSCOP3', 'PSCOP4', 'PTRANS1', 'PTRANS2', 'PTRANS3', 'PMSC1',\n",
              "       'PMSC2', 'PMSC3', 'PMSC4', 'PMSC5', 'PMSC6', 'PMSC7'],\n",
              "      dtype='object')"
            ]
          },
          "metadata": {
            "tags": []
          },
          "execution_count": 7
        }
      ]
    },
    {
      "cell_type": "code",
      "metadata": {
        "id": "pOcZ03xE9Xmc"
      },
      "source": [
        "#variables to drop\n",
        "# 'PSCOP3', 'PSCOP4', 'PMSC1', 'PINST6', 'PMSC4', 'PMSC3', 'PTRANS2'"
      ],
      "execution_count": null,
      "outputs": []
    },
    {
      "cell_type": "code",
      "metadata": {
        "colab": {
          "base_uri": "https://localhost:8080/"
        },
        "id": "6TcuMu98_AdJ",
        "outputId": "80682026-a6e1-45b3-d8c2-e527e72053f3"
      },
      "source": [
        "mm = list(df.columns)\n",
        "mm.index('PSCOP3')"
      ],
      "execution_count": null,
      "outputs": [
        {
          "output_type": "execute_result",
          "data": {
            "text/plain": [
              "8"
            ]
          },
          "metadata": {
            "tags": []
          },
          "execution_count": 12
        }
      ]
    },
    {
      "cell_type": "code",
      "metadata": {
        "colab": {
          "base_uri": "https://localhost:8080/",
          "height": 35
        },
        "id": "oZt5_Iby_WOL",
        "outputId": "67a18cfa-2268-44e3-9979-b9898a92b6d7"
      },
      "source": [
        "mm.pop(mm.index('PSCOP3'))\n",
        "mm.pop(mm.index('PSCOP4'))\n",
        "mm.pop(mm.index('PMSC1'))\n",
        "mm.pop(mm.index('PINST6'))\n",
        "mm.pop(mm.index('PMSC4'))\n",
        "mm.pop(mm.index('PMSC3'))\n",
        "mm.pop(mm.index('PTRANS2'))"
      ],
      "execution_count": null,
      "outputs": [
        {
          "output_type": "execute_result",
          "data": {
            "application/vnd.google.colaboratory.intrinsic+json": {
              "type": "string"
            },
            "text/plain": [
              "'PTRANS2'"
            ]
          },
          "metadata": {
            "tags": []
          },
          "execution_count": 13
        }
      ]
    },
    {
      "cell_type": "code",
      "metadata": {
        "colab": {
          "base_uri": "https://localhost:8080/"
        },
        "id": "4QK0wIpX_xra",
        "outputId": "70fcd2ee-7e7d-4e14-a0ed-d676744e8140"
      },
      "source": [
        "len(mm)"
      ],
      "execution_count": null,
      "outputs": [
        {
          "output_type": "execute_result",
          "data": {
            "text/plain": [
              "13"
            ]
          },
          "metadata": {
            "tags": []
          },
          "execution_count": 15
        }
      ]
    },
    {
      "cell_type": "code",
      "metadata": {
        "id": "TSsj7-0t-PKk"
      },
      "source": [
        "dff = df[mm]"
      ],
      "execution_count": null,
      "outputs": []
    },
    {
      "cell_type": "code",
      "metadata": {
        "colab": {
          "base_uri": "https://localhost:8080/",
          "height": 112
        },
        "id": "uYsItk5jAI5o",
        "outputId": "26ba93bf-47c2-420a-f0bb-8aaa42415603"
      },
      "source": [
        "dff.head(2)"
      ],
      "execution_count": null,
      "outputs": [
        {
          "output_type": "execute_result",
          "data": {
            "text/html": [
              "<div>\n",
              "<style scoped>\n",
              "    .dataframe tbody tr th:only-of-type {\n",
              "        vertical-align: middle;\n",
              "    }\n",
              "\n",
              "    .dataframe tbody tr th {\n",
              "        vertical-align: top;\n",
              "    }\n",
              "\n",
              "    .dataframe thead th {\n",
              "        text-align: right;\n",
              "    }\n",
              "</style>\n",
              "<table border=\"1\" class=\"dataframe\">\n",
              "  <thead>\n",
              "    <tr style=\"text-align: right;\">\n",
              "      <th></th>\n",
              "      <th>PINST1</th>\n",
              "      <th>PINST2</th>\n",
              "      <th>PINST3</th>\n",
              "      <th>PINST4</th>\n",
              "      <th>PINST5</th>\n",
              "      <th>PSOCP1</th>\n",
              "      <th>PSOCP2</th>\n",
              "      <th>PTRANS1</th>\n",
              "      <th>PTRANS3</th>\n",
              "      <th>PMSC2</th>\n",
              "      <th>PMSC5</th>\n",
              "      <th>PMSC6</th>\n",
              "      <th>PMSC7</th>\n",
              "    </tr>\n",
              "  </thead>\n",
              "  <tbody>\n",
              "    <tr>\n",
              "      <th>0</th>\n",
              "      <td>4</td>\n",
              "      <td>4</td>\n",
              "      <td>5</td>\n",
              "      <td>5</td>\n",
              "      <td>4</td>\n",
              "      <td>3</td>\n",
              "      <td>4</td>\n",
              "      <td>5</td>\n",
              "      <td>5</td>\n",
              "      <td>5</td>\n",
              "      <td>5</td>\n",
              "      <td>5</td>\n",
              "      <td>4</td>\n",
              "    </tr>\n",
              "    <tr>\n",
              "      <th>1</th>\n",
              "      <td>3</td>\n",
              "      <td>4</td>\n",
              "      <td>1</td>\n",
              "      <td>4</td>\n",
              "      <td>4</td>\n",
              "      <td>4</td>\n",
              "      <td>4</td>\n",
              "      <td>3</td>\n",
              "      <td>3</td>\n",
              "      <td>3</td>\n",
              "      <td>2</td>\n",
              "      <td>5</td>\n",
              "      <td>3</td>\n",
              "    </tr>\n",
              "  </tbody>\n",
              "</table>\n",
              "</div>"
            ],
            "text/plain": [
              "   PINST1  PINST2  PINST3  PINST4  PINST5  ...  PTRANS3  PMSC2  PMSC5  PMSC6  PMSC7\n",
              "0       4       4       5       5       4  ...        5      5      5      5      4\n",
              "1       3       4       1       4       4  ...        3      3      2      5      3\n",
              "\n",
              "[2 rows x 13 columns]"
            ]
          },
          "metadata": {
            "tags": []
          },
          "execution_count": 18
        }
      ]
    },
    {
      "cell_type": "code",
      "metadata": {
        "colab": {
          "base_uri": "https://localhost:8080/",
          "height": 457
        },
        "id": "RxBmiFYOANK2",
        "outputId": "4bdad975-b506-4e78-b405-744888d74f76"
      },
      "source": [
        "dff.corr()"
      ],
      "execution_count": null,
      "outputs": [
        {
          "output_type": "execute_result",
          "data": {
            "text/html": [
              "<div>\n",
              "<style scoped>\n",
              "    .dataframe tbody tr th:only-of-type {\n",
              "        vertical-align: middle;\n",
              "    }\n",
              "\n",
              "    .dataframe tbody tr th {\n",
              "        vertical-align: top;\n",
              "    }\n",
              "\n",
              "    .dataframe thead th {\n",
              "        text-align: right;\n",
              "    }\n",
              "</style>\n",
              "<table border=\"1\" class=\"dataframe\">\n",
              "  <thead>\n",
              "    <tr style=\"text-align: right;\">\n",
              "      <th></th>\n",
              "      <th>PINST1</th>\n",
              "      <th>PINST2</th>\n",
              "      <th>PINST3</th>\n",
              "      <th>PINST4</th>\n",
              "      <th>PINST5</th>\n",
              "      <th>PSOCP1</th>\n",
              "      <th>PSOCP2</th>\n",
              "      <th>PTRANS1</th>\n",
              "      <th>PTRANS3</th>\n",
              "      <th>PMSC2</th>\n",
              "      <th>PMSC5</th>\n",
              "      <th>PMSC6</th>\n",
              "      <th>PMSC7</th>\n",
              "    </tr>\n",
              "  </thead>\n",
              "  <tbody>\n",
              "    <tr>\n",
              "      <th>PINST1</th>\n",
              "      <td>1.000000</td>\n",
              "      <td>0.338367</td>\n",
              "      <td>0.597879</td>\n",
              "      <td>0.130127</td>\n",
              "      <td>-0.447292</td>\n",
              "      <td>0.009085</td>\n",
              "      <td>0.038749</td>\n",
              "      <td>0.523431</td>\n",
              "      <td>0.203411</td>\n",
              "      <td>0.385699</td>\n",
              "      <td>0.558086</td>\n",
              "      <td>-0.222648</td>\n",
              "      <td>0.000750</td>\n",
              "    </tr>\n",
              "    <tr>\n",
              "      <th>PINST2</th>\n",
              "      <td>0.338367</td>\n",
              "      <td>1.000000</td>\n",
              "      <td>0.093675</td>\n",
              "      <td>-0.183986</td>\n",
              "      <td>-0.182364</td>\n",
              "      <td>0.279104</td>\n",
              "      <td>0.182385</td>\n",
              "      <td>0.158542</td>\n",
              "      <td>-0.207638</td>\n",
              "      <td>0.028404</td>\n",
              "      <td>0.169039</td>\n",
              "      <td>-0.199684</td>\n",
              "      <td>0.056782</td>\n",
              "    </tr>\n",
              "    <tr>\n",
              "      <th>PINST3</th>\n",
              "      <td>0.597879</td>\n",
              "      <td>0.093675</td>\n",
              "      <td>1.000000</td>\n",
              "      <td>0.352469</td>\n",
              "      <td>-0.260195</td>\n",
              "      <td>-0.040284</td>\n",
              "      <td>0.099573</td>\n",
              "      <td>0.795678</td>\n",
              "      <td>0.627130</td>\n",
              "      <td>0.745147</td>\n",
              "      <td>0.848358</td>\n",
              "      <td>-0.040852</td>\n",
              "      <td>0.245313</td>\n",
              "    </tr>\n",
              "    <tr>\n",
              "      <th>PINST4</th>\n",
              "      <td>0.130127</td>\n",
              "      <td>-0.183986</td>\n",
              "      <td>0.352469</td>\n",
              "      <td>1.000000</td>\n",
              "      <td>0.008422</td>\n",
              "      <td>-0.108064</td>\n",
              "      <td>-0.081556</td>\n",
              "      <td>0.236008</td>\n",
              "      <td>0.444793</td>\n",
              "      <td>0.130871</td>\n",
              "      <td>0.251634</td>\n",
              "      <td>0.101266</td>\n",
              "      <td>-0.067659</td>\n",
              "    </tr>\n",
              "    <tr>\n",
              "      <th>PINST5</th>\n",
              "      <td>-0.447292</td>\n",
              "      <td>-0.182364</td>\n",
              "      <td>-0.260195</td>\n",
              "      <td>0.008422</td>\n",
              "      <td>1.000000</td>\n",
              "      <td>-0.382580</td>\n",
              "      <td>-0.137468</td>\n",
              "      <td>-0.275854</td>\n",
              "      <td>-0.145927</td>\n",
              "      <td>-0.038783</td>\n",
              "      <td>-0.343067</td>\n",
              "      <td>0.490423</td>\n",
              "      <td>-0.043559</td>\n",
              "    </tr>\n",
              "    <tr>\n",
              "      <th>PSOCP1</th>\n",
              "      <td>0.009085</td>\n",
              "      <td>0.279104</td>\n",
              "      <td>-0.040284</td>\n",
              "      <td>-0.108064</td>\n",
              "      <td>-0.382580</td>\n",
              "      <td>1.000000</td>\n",
              "      <td>0.590841</td>\n",
              "      <td>0.016478</td>\n",
              "      <td>-0.363713</td>\n",
              "      <td>-0.116730</td>\n",
              "      <td>0.152714</td>\n",
              "      <td>-0.151093</td>\n",
              "      <td>0.101088</td>\n",
              "    </tr>\n",
              "    <tr>\n",
              "      <th>PSOCP2</th>\n",
              "      <td>0.038749</td>\n",
              "      <td>0.182385</td>\n",
              "      <td>0.099573</td>\n",
              "      <td>-0.081556</td>\n",
              "      <td>-0.137468</td>\n",
              "      <td>0.590841</td>\n",
              "      <td>1.000000</td>\n",
              "      <td>0.070277</td>\n",
              "      <td>-0.316529</td>\n",
              "      <td>-0.135410</td>\n",
              "      <td>0.294507</td>\n",
              "      <td>-0.188969</td>\n",
              "      <td>0.203022</td>\n",
              "    </tr>\n",
              "    <tr>\n",
              "      <th>PTRANS1</th>\n",
              "      <td>0.523431</td>\n",
              "      <td>0.158542</td>\n",
              "      <td>0.795678</td>\n",
              "      <td>0.236008</td>\n",
              "      <td>-0.275854</td>\n",
              "      <td>0.016478</td>\n",
              "      <td>0.070277</td>\n",
              "      <td>1.000000</td>\n",
              "      <td>0.616147</td>\n",
              "      <td>0.746309</td>\n",
              "      <td>0.937904</td>\n",
              "      <td>0.015008</td>\n",
              "      <td>0.180194</td>\n",
              "    </tr>\n",
              "    <tr>\n",
              "      <th>PTRANS3</th>\n",
              "      <td>0.203411</td>\n",
              "      <td>-0.207638</td>\n",
              "      <td>0.627130</td>\n",
              "      <td>0.444793</td>\n",
              "      <td>-0.145927</td>\n",
              "      <td>-0.363713</td>\n",
              "      <td>-0.316529</td>\n",
              "      <td>0.616147</td>\n",
              "      <td>1.000000</td>\n",
              "      <td>0.627555</td>\n",
              "      <td>0.550381</td>\n",
              "      <td>0.166527</td>\n",
              "      <td>0.283025</td>\n",
              "    </tr>\n",
              "    <tr>\n",
              "      <th>PMSC2</th>\n",
              "      <td>0.385699</td>\n",
              "      <td>0.028404</td>\n",
              "      <td>0.745147</td>\n",
              "      <td>0.130871</td>\n",
              "      <td>-0.038783</td>\n",
              "      <td>-0.116730</td>\n",
              "      <td>-0.135410</td>\n",
              "      <td>0.746309</td>\n",
              "      <td>0.627555</td>\n",
              "      <td>1.000000</td>\n",
              "      <td>0.677266</td>\n",
              "      <td>0.451997</td>\n",
              "      <td>0.503465</td>\n",
              "    </tr>\n",
              "    <tr>\n",
              "      <th>PMSC5</th>\n",
              "      <td>0.558086</td>\n",
              "      <td>0.169039</td>\n",
              "      <td>0.848358</td>\n",
              "      <td>0.251634</td>\n",
              "      <td>-0.343067</td>\n",
              "      <td>0.152714</td>\n",
              "      <td>0.294507</td>\n",
              "      <td>0.937904</td>\n",
              "      <td>0.550381</td>\n",
              "      <td>0.677266</td>\n",
              "      <td>1.000000</td>\n",
              "      <td>-0.132847</td>\n",
              "      <td>0.269205</td>\n",
              "    </tr>\n",
              "    <tr>\n",
              "      <th>PMSC6</th>\n",
              "      <td>-0.222648</td>\n",
              "      <td>-0.199684</td>\n",
              "      <td>-0.040852</td>\n",
              "      <td>0.101266</td>\n",
              "      <td>0.490423</td>\n",
              "      <td>-0.151093</td>\n",
              "      <td>-0.188969</td>\n",
              "      <td>0.015008</td>\n",
              "      <td>0.166527</td>\n",
              "      <td>0.451997</td>\n",
              "      <td>-0.132847</td>\n",
              "      <td>1.000000</td>\n",
              "      <td>0.253761</td>\n",
              "    </tr>\n",
              "    <tr>\n",
              "      <th>PMSC7</th>\n",
              "      <td>0.000750</td>\n",
              "      <td>0.056782</td>\n",
              "      <td>0.245313</td>\n",
              "      <td>-0.067659</td>\n",
              "      <td>-0.043559</td>\n",
              "      <td>0.101088</td>\n",
              "      <td>0.203022</td>\n",
              "      <td>0.180194</td>\n",
              "      <td>0.283025</td>\n",
              "      <td>0.503465</td>\n",
              "      <td>0.269205</td>\n",
              "      <td>0.253761</td>\n",
              "      <td>1.000000</td>\n",
              "    </tr>\n",
              "  </tbody>\n",
              "</table>\n",
              "</div>"
            ],
            "text/plain": [
              "           PINST1    PINST2    PINST3  ...     PMSC5     PMSC6     PMSC7\n",
              "PINST1   1.000000  0.338367  0.597879  ...  0.558086 -0.222648  0.000750\n",
              "PINST2   0.338367  1.000000  0.093675  ...  0.169039 -0.199684  0.056782\n",
              "PINST3   0.597879  0.093675  1.000000  ...  0.848358 -0.040852  0.245313\n",
              "PINST4   0.130127 -0.183986  0.352469  ...  0.251634  0.101266 -0.067659\n",
              "PINST5  -0.447292 -0.182364 -0.260195  ... -0.343067  0.490423 -0.043559\n",
              "PSOCP1   0.009085  0.279104 -0.040284  ...  0.152714 -0.151093  0.101088\n",
              "PSOCP2   0.038749  0.182385  0.099573  ...  0.294507 -0.188969  0.203022\n",
              "PTRANS1  0.523431  0.158542  0.795678  ...  0.937904  0.015008  0.180194\n",
              "PTRANS3  0.203411 -0.207638  0.627130  ...  0.550381  0.166527  0.283025\n",
              "PMSC2    0.385699  0.028404  0.745147  ...  0.677266  0.451997  0.503465\n",
              "PMSC5    0.558086  0.169039  0.848358  ...  1.000000 -0.132847  0.269205\n",
              "PMSC6   -0.222648 -0.199684 -0.040852  ... -0.132847  1.000000  0.253761\n",
              "PMSC7    0.000750  0.056782  0.245313  ...  0.269205  0.253761  1.000000\n",
              "\n",
              "[13 rows x 13 columns]"
            ]
          },
          "metadata": {
            "tags": []
          },
          "execution_count": 19
        }
      ]
    },
    {
      "cell_type": "markdown",
      "metadata": {
        "id": "2yll5tBp2GiX"
      },
      "source": [
        "Bartlett’s test of sphericity checks whether or not the observed variables intercorrelate at all using the observed correlation matrix against the identity matrix. If the test found statistically insignificant, you should not employ a factor analysis."
      ]
    },
    {
      "cell_type": "code",
      "metadata": {
        "id": "Ru5E76x02GiX"
      },
      "source": [
        "#df.dtypes"
      ],
      "execution_count": null,
      "outputs": []
    },
    {
      "cell_type": "code",
      "metadata": {
        "colab": {
          "base_uri": "https://localhost:8080/"
        },
        "id": "bGiD9KXg2GiX",
        "outputId": "07db3f10-2192-4ca3-f856-180670bfe524"
      },
      "source": [
        "chi_square_value,p_value=calculate_bartlett_sphericity(dff)\n",
        "chi_square_value, p_value"
      ],
      "execution_count": null,
      "outputs": [
        {
          "output_type": "execute_result",
          "data": {
            "text/plain": [
              "(2253.8970226075203, 0.0)"
            ]
          },
          "metadata": {
            "tags": []
          },
          "execution_count": 26
        }
      ]
    },
    {
      "cell_type": "code",
      "metadata": {
        "colab": {
          "base_uri": "https://localhost:8080/"
        },
        "id": "_k_StA752GiY",
        "outputId": "e85bb62c-adea-4e41-81da-8126ea8bc83b"
      },
      "source": [
        "from factor_analyzer.factor_analyzer import calculate_kmo\n",
        "kmo_all,kmo_model=calculate_kmo(dff)"
      ],
      "execution_count": null,
      "outputs": [
        {
          "output_type": "stream",
          "text": [
            "/usr/local/lib/python3.6/dist-packages/factor_analyzer/utils.py:248: UserWarning: The inverse of the variance-covariance matrix was calculated using the Moore-Penrose generalized matrix inversion, due to its determinant being at or very close to zero.\n",
            "  warnings.warn('The inverse of the variance-covariance matrix '\n"
          ],
          "name": "stderr"
        }
      ]
    },
    {
      "cell_type": "code",
      "metadata": {
        "colab": {
          "base_uri": "https://localhost:8080/"
        },
        "id": "rOVib6Yz2GiZ",
        "outputId": "24f2b57b-3906-4692-92dc-f0847f6d07a1"
      },
      "source": [
        "kmo_model"
      ],
      "execution_count": null,
      "outputs": [
        {
          "output_type": "execute_result",
          "data": {
            "text/plain": [
              "0.4470396596765674"
            ]
          },
          "metadata": {
            "tags": []
          },
          "execution_count": 24
        }
      ]
    },
    {
      "cell_type": "code",
      "metadata": {
        "colab": {
          "base_uri": "https://localhost:8080/"
        },
        "id": "UzvIr2HiBPGs",
        "outputId": "3d69ba89-5d7b-412f-dbbe-4f093b15f5eb"
      },
      "source": [
        "kmo_all"
      ],
      "execution_count": null,
      "outputs": [
        {
          "output_type": "execute_result",
          "data": {
            "text/plain": [
              "array([0.66743486, 0.52950069, 0.69857324, 0.41787802, 0.48882423,\n",
              "       0.48630606, 0.30871037, 0.67679396, 0.69005547, 0.56226467,\n",
              "       0.63852551, 0.27703697, 0.35240687])"
            ]
          },
          "metadata": {
            "tags": []
          },
          "execution_count": 31
        }
      ]
    },
    {
      "cell_type": "code",
      "metadata": {
        "colab": {
          "base_uri": "https://localhost:8080/"
        },
        "id": "Mzz3c78b2Gib",
        "outputId": "3d33f971-0afb-4a3e-db7d-34d0535eea70"
      },
      "source": [
        "# Create factor analysis object and perform factor analysis\n",
        "fa = FactorAnalyzer(5, rotation='promax')\n",
        "fa.fit(dff)\n",
        "# Check Eigenvalues\n",
        "ev, v = fa.get_eigenvalues()\n",
        "ev"
      ],
      "execution_count": null,
      "outputs": [
        {
          "output_type": "execute_result",
          "data": {
            "text/plain": [
              "array([4.56136266, 2.55937851, 1.57093923, 1.10304102, 0.86811178,\n",
              "       0.66762509, 0.59161624, 0.48272733, 0.23716402, 0.17602161,\n",
              "       0.13403753, 0.03221275, 0.01576223])"
            ]
          },
          "metadata": {
            "tags": []
          },
          "execution_count": 36
        }
      ]
    },
    {
      "cell_type": "code",
      "metadata": {
        "colab": {
          "base_uri": "https://localhost:8080/",
          "height": 295
        },
        "id": "9dGz_jGV2Gic",
        "outputId": "91552d39-a200-4a05-b7f0-e45cf2d50122"
      },
      "source": [
        "# Create scree plot using matplotlib\n",
        "df = dff\n",
        "plt.scatter(range(1,df.shape[1]+1),ev)\n",
        "plt.plot(range(1,df.shape[1]+1),ev)\n",
        "plt.title('Scree Plot')\n",
        "plt.xlabel('Factors')\n",
        "plt.ylabel('Eigenvalue')\n",
        "plt.savefig('screen1.png')\n",
        "plt.show()"
      ],
      "execution_count": null,
      "outputs": [
        {
          "output_type": "display_data",
          "data": {
            "image/png": "[encoded data removed]",
            "text/plain": [
              "<Figure size 432x288 with 1 Axes>"
            ]
          },
          "metadata": {
            "tags": [],
            "needs_background": "light"
          }
        }
      ]
    },
    {
      "cell_type": "code",
      "metadata": {
        "colab": {
          "base_uri": "https://localhost:8080/"
        },
        "id": "oTu4rfLRB67o",
        "outputId": "820040ba-0ba3-4e09-87aa-c6505e9c584b"
      },
      "source": [
        "# Create factor analysis object and perform factor analysis\n",
        "fa = FactorAnalyzer(3, rotation='promax', method='principal')\n",
        "fa.fit(df)"
      ],
      "execution_count": null,
      "outputs": [
        {
          "output_type": "execute_result",
          "data": {
            "text/plain": [
              "FactorAnalyzer(bounds=(0.005, 1), impute='median', is_corr_matrix=False,\n",
              "               method='principal', n_factors=3, rotation='promax',\n",
              "               rotation_kwargs={}, use_smc=True)"
            ]
          },
          "metadata": {
            "tags": []
          },
          "execution_count": 43
        }
      ]
    },
    {
      "cell_type": "code",
      "metadata": {
        "colab": {
          "base_uri": "https://localhost:8080/"
        },
        "id": "1w7Bp2tRDW8U",
        "outputId": "25c5d386-d99e-41de-dbe5-7db1a6a5cb2b"
      },
      "source": [
        "fa.loadings_"
      ],
      "execution_count": null,
      "outputs": [
        {
          "output_type": "execute_result",
          "data": {
            "text/plain": [
              "array([[ 0.62272308,  0.04580241, -0.41591405],\n",
              "       [ 0.10969742,  0.47829067, -0.1921321 ],\n",
              "       [ 0.92461432, -0.01895357, -0.01241491],\n",
              "       [ 0.36671484, -0.41278233, -0.10062212],\n",
              "       [-0.32612728, -0.25614596,  0.5554428 ],\n",
              "       [-0.05348225,  0.81508704, -0.02818701],\n",
              "       [ 0.01996934,  0.8046345 ,  0.07465743],\n",
              "       [ 0.91759646,  0.03270728,  0.0112445 ],\n",
              "       [ 0.75118304, -0.45686857,  0.14095012],\n",
              "       [ 0.84238299, -0.01337565,  0.48840724],\n",
              "       [ 0.91527349,  0.20487366, -0.02902362],\n",
              "       [ 0.0610768 , -0.11776415,  0.82133409],\n",
              "       [ 0.35478413,  0.41353223,  0.66211793]])"
            ]
          },
          "metadata": {
            "tags": []
          },
          "execution_count": 44
        }
      ]
    },
    {
      "cell_type": "code",
      "metadata": {
        "colab": {
          "base_uri": "https://localhost:8080/"
        },
        "id": "Z5bGjdsBDcO1",
        "outputId": "bac22473-c1ac-4975-864a-9bfb4b67df42"
      },
      "source": [
        "fa.get_communalities()"
      ],
      "execution_count": null,
      "outputs": [
        {
          "output_type": "execute_result",
          "data": {
            "text/plain": [
              "array([0.5628664 , 0.27771023, 0.85542502, 0.31499384, 0.48048646,\n",
              "       0.66802174, 0.65340919, 0.84317946, 0.79287179, 0.94832963,\n",
              "       0.88054114, 0.69218846, 0.73528084])"
            ]
          },
          "metadata": {
            "tags": []
          },
          "execution_count": 45
        }
      ]
    },
    {
      "cell_type": "code",
      "metadata": {
        "colab": {
          "base_uri": "https://localhost:8080/"
        },
        "id": "d-7Pt093Dz4f",
        "outputId": "599e515b-0f2e-4700-b1da-c3fd77daf41c"
      },
      "source": [
        "fa.get_uniquenesses()"
      ],
      "execution_count": null,
      "outputs": [
        {
          "output_type": "execute_result",
          "data": {
            "text/plain": [
              "array([0.4371336 , 0.72228977, 0.14457498, 0.68500616, 0.51951354,\n",
              "       0.33197826, 0.34659081, 0.15682054, 0.20712821, 0.05167037,\n",
              "       0.11945886, 0.30781154, 0.26471916])"
            ]
          },
          "metadata": {
            "tags": []
          },
          "execution_count": 47
        }
      ]
    },
    {
      "cell_type": "code",
      "metadata": {
        "colab": {
          "base_uri": "https://localhost:8080/"
        },
        "id": "M82WsLIKE6g6",
        "outputId": "d8f504cb-4dc9-48a2-aa34-5b2616a42696"
      },
      "source": [
        "# Create factor analysis object and perform factor analysis\n",
        "fa = FactorAnalyzer(4, rotation='varimax', method='principal')\n",
        "fa.fit(df)"
      ],
      "execution_count": null,
      "outputs": [
        {
          "output_type": "execute_result",
          "data": {
            "text/plain": [
              "FactorAnalyzer(bounds=(0.005, 1), impute='median', is_corr_matrix=False,\n",
              "               method='principal', n_factors=4, rotation='varimax',\n",
              "               rotation_kwargs={}, use_smc=True)"
            ]
          },
          "metadata": {
            "tags": []
          },
          "execution_count": 52
        }
      ]
    },
    {
      "cell_type": "code",
      "metadata": {
        "colab": {
          "base_uri": "https://localhost:8080/"
        },
        "id": "HnocgWT2GRT2",
        "outputId": "a530af74-8a24-440f-d534-7e5f79245082"
      },
      "source": [
        "fa.loadings_"
      ],
      "execution_count": null,
      "outputs": [
        {
          "output_type": "execute_result",
          "data": {
            "text/plain": [
              "array([[ 0.66765941, -0.07274211, -0.40600862, -0.2986179 ],\n",
              "       [ 0.18149523,  0.15540782, -0.19313629, -0.72819457],\n",
              "       [ 0.91853335,  0.03437743, -0.03431745,  0.1093759 ],\n",
              "       [ 0.30926256, -0.04211361, -0.1170678 ,  0.74086968],\n",
              "       [-0.36532959, -0.28433387,  0.58332695,  0.12769181],\n",
              "       [-0.03184983,  0.84857788, -0.12070058, -0.15494104],\n",
              "       [ 0.02762405,  0.89018233, -0.02782825, -0.03803318],\n",
              "       [ 0.91812543,  0.03916036, -0.00939717,  0.01868811],\n",
              "       [ 0.71001131, -0.31772338,  0.1538339 ,  0.40133185],\n",
              "       [ 0.82692609, -0.11832924,  0.48259797, -0.06618678],\n",
              "       [ 0.91727472,  0.25612032, -0.07453265,  0.04520095],\n",
              "       [ 0.01375638, -0.17438769,  0.82701643,  0.10408292],\n",
              "       [ 0.34101543,  0.3060005 ,  0.6155061 , -0.14970914]])"
            ]
          },
          "metadata": {
            "tags": []
          },
          "execution_count": 53
        }
      ]
    },
    {
      "cell_type": "code",
      "metadata": {
        "colab": {
          "base_uri": "https://localhost:8080/"
        },
        "id": "YqsPk_sEGV4I",
        "outputId": "88c87976-2997-4767-d9d7-25872fde3cf6"
      },
      "source": [
        "fa.get_communalities()"
      ],
      "execution_count": null,
      "outputs": [
        {
          "output_type": "execute_result",
          "data": {
            "text/plain": [
              "array([0.70507615, 0.62466106, 0.85802609, 0.66000963, 0.57088699,\n",
              "       0.75967418, 0.79540861, 0.84492539, 0.78979633, 0.93509006,\n",
              "       0.91458878, 0.72538973, 0.61118841])"
            ]
          },
          "metadata": {
            "tags": []
          },
          "execution_count": 54
        }
      ]
    },
    {
      "cell_type": "code",
      "metadata": {
        "colab": {
          "base_uri": "https://localhost:8080/"
        },
        "id": "hePjMBEFGZen",
        "outputId": "d27a9299-5fbc-4af4-c968-4948d1dc02e2"
      },
      "source": [
        "fa.get_uniquenesses()"
      ],
      "execution_count": null,
      "outputs": [
        {
          "output_type": "execute_result",
          "data": {
            "text/plain": [
              "array([0.29492385, 0.37533894, 0.14197391, 0.33999037, 0.42911301,\n",
              "       0.24032582, 0.20459139, 0.15507461, 0.21020367, 0.06490994,\n",
              "       0.08541122, 0.27461027, 0.38881159])"
            ]
          },
          "metadata": {
            "tags": []
          },
          "execution_count": 55
        }
      ]
    },
    {
      "cell_type": "code",
      "metadata": {
        "colab": {
          "base_uri": "https://localhost:8080/"
        },
        "id": "6ezZVQhzGcyr",
        "outputId": "320dd5a3-6feb-40e4-fb05-35f339dbd064"
      },
      "source": [
        "# Get variance of each factors\n",
        "list(fa.get_factor_variance())"
      ],
      "execution_count": null,
      "outputs": [
        {
          "output_type": "execute_result",
          "data": {
            "text/plain": [
              "[array([4.54205046, 1.9318816 , 1.89765358, 1.42313578]),\n",
              " array([0.3493885 , 0.14860628, 0.14597335, 0.10947198]),\n",
              " array([0.3493885 , 0.49799477, 0.64396813, 0.75344011])]"
            ]
          },
          "metadata": {
            "tags": []
          },
          "execution_count": 56
        }
      ]
    },
    {
      "cell_type": "code",
      "metadata": {
        "id": "SUwJieqEHJkb"
      },
      "source": [
        "ls = ['SS Loadings','Proportion Var','Cumulative Var']\n",
        "vr = pd.DataFrame(ls)\n",
        "vr['1'] = (list(fa.get_factor_variance())[0][0],list(fa.get_factor_variance())[1][0], list(fa.get_factor_variance())[2][0])\n",
        "vr['2'] = (list(fa.get_factor_variance())[0][1],list(fa.get_factor_variance())[1][1], list(fa.get_factor_variance())[2][1])\n",
        "vr['3'] = (list(fa.get_factor_variance())[0][2],list(fa.get_factor_variance())[1][2], list(fa.get_factor_variance())[2][2])\n",
        "vr['4'] = (list(fa.get_factor_variance())[0][3],list(fa.get_factor_variance())[1][3], list(fa.get_factor_variance())[2][3])\n",
        "vr.columns = ('properties','factor1', 'factor2', 'factor3', 'factor4')"
      ],
      "execution_count": null,
      "outputs": []
    },
    {
      "cell_type": "code",
      "metadata": {
        "colab": {
          "base_uri": "https://localhost:8080/",
          "height": 144
        },
        "id": "rz-VJALHHza5",
        "outputId": "3623e0dd-7296-4985-a28b-70125fc0b467"
      },
      "source": [
        "vr"
      ],
      "execution_count": null,
      "outputs": [
        {
          "output_type": "execute_result",
          "data": {
            "text/html": [
              "<div>\n",
              "<style scoped>\n",
              "    .dataframe tbody tr th:only-of-type {\n",
              "        vertical-align: middle;\n",
              "    }\n",
              "\n",
              "    .dataframe tbody tr th {\n",
              "        vertical-align: top;\n",
              "    }\n",
              "\n",
              "    .dataframe thead th {\n",
              "        text-align: right;\n",
              "    }\n",
              "</style>\n",
              "<table border=\"1\" class=\"dataframe\">\n",
              "  <thead>\n",
              "    <tr style=\"text-align: right;\">\n",
              "      <th></th>\n",
              "      <th>properties</th>\n",
              "      <th>factor1</th>\n",
              "      <th>factor2</th>\n",
              "      <th>factor3</th>\n",
              "      <th>factor4</th>\n",
              "    </tr>\n",
              "  </thead>\n",
              "  <tbody>\n",
              "    <tr>\n",
              "      <th>0</th>\n",
              "      <td>SS Loadings</td>\n",
              "      <td>4.542050</td>\n",
              "      <td>1.931882</td>\n",
              "      <td>1.897654</td>\n",
              "      <td>1.423136</td>\n",
              "    </tr>\n",
              "    <tr>\n",
              "      <th>1</th>\n",
              "      <td>Proportion Var</td>\n",
              "      <td>0.349388</td>\n",
              "      <td>0.148606</td>\n",
              "      <td>0.145973</td>\n",
              "      <td>0.109472</td>\n",
              "    </tr>\n",
              "    <tr>\n",
              "      <th>2</th>\n",
              "      <td>Cumulative Var</td>\n",
              "      <td>0.349388</td>\n",
              "      <td>0.497995</td>\n",
              "      <td>0.643968</td>\n",
              "      <td>0.753440</td>\n",
              "    </tr>\n",
              "  </tbody>\n",
              "</table>\n",
              "</div>"
            ],
            "text/plain": [
              "       properties   factor1   factor2   factor3   factor4\n",
              "0     SS Loadings  4.542050  1.931882  1.897654  1.423136\n",
              "1  Proportion Var  0.349388  0.148606  0.145973  0.109472\n",
              "2  Cumulative Var  0.349388  0.497995  0.643968  0.753440"
            ]
          },
          "metadata": {
            "tags": []
          },
          "execution_count": 61
        }
      ]
    },
    {
      "cell_type": "code",
      "metadata": {
        "id": "cSBBTiq5H3qd"
      },
      "source": [
        "df.to_csv('dave.csv')"
      ],
      "execution_count": null,
      "outputs": []
    },
    {
      "cell_type": "code",
      "metadata": {
        "colab": {
          "base_uri": "https://localhost:8080/"
        },
        "id": "wr3JsyfOLjeG",
        "outputId": "16d83644-2b6d-4775-dcf1-d7b6da08a41d"
      },
      "source": [
        "dff.isnull().sum()"
      ],
      "execution_count": null,
      "outputs": [
        {
          "output_type": "execute_result",
          "data": {
            "text/plain": [
              "PINST1     0\n",
              "PINST2     0\n",
              "PINST3     0\n",
              "PINST4     0\n",
              "PINST5     0\n",
              "PSOCP1     0\n",
              "PSOCP2     0\n",
              "PTRANS1    0\n",
              "PTRANS3    0\n",
              "PMSC2      0\n",
              "PMSC5      0\n",
              "PMSC6      0\n",
              "PMSC7      0\n",
              "dtype: int64"
            ]
          },
          "metadata": {
            "tags": []
          },
          "execution_count": 63
        }
      ]
    },
    {
      "cell_type": "code",
      "metadata": {
        "id": "_NI4l4DLSMK4"
      },
      "source": [
        ""
      ],
      "execution_count": null,
      "outputs": []
    }
  ]
}